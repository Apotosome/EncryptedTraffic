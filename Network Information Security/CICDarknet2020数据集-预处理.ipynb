{
 "cells": [
  {
   "cell_type": "markdown",
   "metadata": {
    "papermill": {
     "duration": 0.026748,
     "end_time": "2022-06-14T11:14:24.176014",
     "exception": false,
     "start_time": "2022-06-14T11:14:24.149266",
     "status": "completed"
    },
    "tags": []
   },
   "source": [
    "# 库导入和配置"
   ]
  },
  {
   "cell_type": "code",
   "execution_count": 1,
   "metadata": {
    "collapsed": true,
    "execution": {
     "iopub.execute_input": "2022-06-14T11:14:24.237437Z",
     "iopub.status.busy": "2022-06-14T11:14:24.236799Z",
     "iopub.status.idle": "2022-06-14T11:14:33.547655Z",
     "shell.execute_reply": "2022-06-14T11:14:33.546017Z",
     "shell.execute_reply.started": "2022-06-14T07:16:04.776989Z"
    },
    "papermill": {
     "duration": 9.344269,
     "end_time": "2022-06-14T11:14:33.547894",
     "exception": false,
     "start_time": "2022-06-14T11:14:24.203625",
     "status": "completed"
    },
    "tags": []
   },
   "outputs": [
    {
     "name": "stdout",
     "output_type": "stream",
     "text": [
      "Collecting ipinfo\r\n",
      "  Downloading ipinfo-4.2.1-py3-none-any.whl (16 kB)\r\n",
      "Requirement already satisfied: aiohttp<=4 in /opt/conda/lib/python3.7/site-packages (from ipinfo) (3.7.3)\r\n",
      "Requirement already satisfied: requests in /opt/conda/lib/python3.7/site-packages (from ipinfo) (2.25.1)\r\n",
      "Requirement already satisfied: cachetools in /opt/conda/lib/python3.7/site-packages (from ipinfo) (4.1.1)\r\n",
      "Requirement already satisfied: multidict<7.0,>=4.5 in /opt/conda/lib/python3.7/site-packages (from aiohttp<=4->ipinfo) (5.1.0)\r\n",
      "Requirement already satisfied: async-timeout<4.0,>=3.0 in /opt/conda/lib/python3.7/site-packages (from aiohttp<=4->ipinfo) (3.0.1)\r\n",
      "Requirement already satisfied: chardet<4.0,>=2.0 in /opt/conda/lib/python3.7/site-packages (from aiohttp<=4->ipinfo) (3.0.4)\r\n",
      "Requirement already satisfied: attrs>=17.3.0 in /opt/conda/lib/python3.7/site-packages (from aiohttp<=4->ipinfo) (20.3.0)\r\n",
      "Requirement already satisfied: typing-extensions>=3.6.5 in /opt/conda/lib/python3.7/site-packages (from aiohttp<=4->ipinfo) (3.7.4.3)\r\n",
      "Requirement already satisfied: yarl<2.0,>=1.0 in /opt/conda/lib/python3.7/site-packages (from aiohttp<=4->ipinfo) (1.6.3)\r\n",
      "Requirement already satisfied: idna>=2.0 in /opt/conda/lib/python3.7/site-packages (from yarl<2.0,>=1.0->aiohttp<=4->ipinfo) (2.10)\r\n",
      "Requirement already satisfied: certifi>=2017.4.17 in /opt/conda/lib/python3.7/site-packages (from requests->ipinfo) (2020.12.5)\r\n",
      "Requirement already satisfied: urllib3<1.27,>=1.21.1 in /opt/conda/lib/python3.7/site-packages (from requests->ipinfo) (1.26.2)\r\n",
      "Installing collected packages: ipinfo\r\n",
      "Successfully installed ipinfo-4.2.1\r\n",
      "\u001b[33mWARNING: You are using pip version 21.0.1; however, version 22.1.2 is available.\r\n",
      "You should consider upgrading via the '/opt/conda/bin/python3.7 -m pip install --upgrade pip' command.\u001b[0m\r\n"
     ]
    }
   ],
   "source": [
    "!pip install ipinfo"
   ]
  },
  {
   "cell_type": "code",
   "execution_count": 2,
   "metadata": {
    "execution": {
     "iopub.execute_input": "2022-06-14T11:14:33.619973Z",
     "iopub.status.busy": "2022-06-14T11:14:33.619356Z",
     "iopub.status.idle": "2022-06-14T11:14:34.952975Z",
     "shell.execute_reply": "2022-06-14T11:14:34.955342Z",
     "shell.execute_reply.started": "2022-06-14T07:16:12.259637Z"
    },
    "papermill": {
     "duration": 1.374219,
     "end_time": "2022-06-14T11:14:34.955611",
     "exception": false,
     "start_time": "2022-06-14T11:14:33.581392",
     "status": "completed"
    },
    "tags": []
   },
   "outputs": [],
   "source": [
    "import pandas as pd\n",
    "import numpy as np\n",
    "import matplotlib.pyplot as plt\n",
    "import seaborn as sns\n",
    "import ipinfo\n",
    "import json\n",
    "from tqdm import tqdm\n",
    "\n",
    "from category_encoders.hashing import HashingEncoder\n",
    "from sklearn.preprocessing import OrdinalEncoder\n",
    "from sklearn.preprocessing import OneHotEncoder\n",
    "from sklearn.preprocessing import StandardScaler\n",
    "from sklearn.preprocessing import MinMaxScaler\n",
    "from kaggle_secrets import UserSecretsClient"
   ]
  },
  {
   "cell_type": "code",
   "execution_count": 3,
   "metadata": {
    "execution": {
     "iopub.execute_input": "2022-06-14T11:14:35.082603Z",
     "iopub.status.busy": "2022-06-14T11:14:35.081787Z",
     "iopub.status.idle": "2022-06-14T11:14:35.681865Z",
     "shell.execute_reply": "2022-06-14T11:14:35.680783Z",
     "shell.execute_reply.started": "2022-06-14T07:16:16.160778Z"
    },
    "papermill": {
     "duration": 0.667326,
     "end_time": "2022-06-14T11:14:35.682061",
     "exception": false,
     "start_time": "2022-06-14T11:14:35.014735",
     "status": "completed"
    },
    "tags": []
   },
   "outputs": [],
   "source": [
    "user_secrets = UserSecretsClient()\n",
    "secret_value_0 = user_secrets.get_secret(\"ipinfo\")\n",
    "ipinfo_handler = ipinfo.getHandler(secret_value_0)\n",
    "dataset_folder = \"../inputs/cicdarknet2020-internet-traffic/\" "
   ]
  },
  {
   "cell_type": "code",
   "execution_count": 4,
   "metadata": {
    "execution": {
     "iopub.execute_input": "2022-06-14T11:14:35.755744Z",
     "iopub.status.busy": "2022-06-14T11:14:35.754999Z",
     "iopub.status.idle": "2022-06-14T11:14:38.012711Z",
     "shell.execute_reply": "2022-06-14T11:14:38.011839Z",
     "shell.execute_reply.started": "2022-06-14T07:16:16.471398Z"
    },
    "papermill": {
     "duration": 2.296725,
     "end_time": "2022-06-14T11:14:38.012852",
     "exception": false,
     "start_time": "2022-06-14T11:14:35.716127",
     "status": "completed"
    },
    "tags": []
   },
   "outputs": [
    {
     "name": "stderr",
     "output_type": "stream",
     "text": [
      "b'Skipping line 328: expected 85 fields, saw 125\\n'\n"
     ]
    },
    {
     "data": {
      "text/html": [
       "<div>\n",
       "<style scoped>\n",
       "    .dataframe tbody tr th:only-of-type {\n",
       "        vertical-align: middle;\n",
       "    }\n",
       "\n",
       "    .dataframe tbody tr th {\n",
       "        vertical-align: top;\n",
       "    }\n",
       "\n",
       "    .dataframe thead th {\n",
       "        text-align: right;\n",
       "    }\n",
       "</style>\n",
       "<table border=\"1\" class=\"dataframe\">\n",
       "  <thead>\n",
       "    <tr style=\"text-align: right;\">\n",
       "      <th></th>\n",
       "      <th>Flow ID</th>\n",
       "      <th>Src IP</th>\n",
       "      <th>Src Port</th>\n",
       "      <th>Dst IP</th>\n",
       "      <th>Dst Port</th>\n",
       "      <th>Protocol</th>\n",
       "      <th>Timestamp</th>\n",
       "      <th>Flow Duration</th>\n",
       "      <th>Total Fwd Packet</th>\n",
       "      <th>Total Bwd packets</th>\n",
       "      <th>...</th>\n",
       "      <th>Active Mean</th>\n",
       "      <th>Active Std</th>\n",
       "      <th>Active Max</th>\n",
       "      <th>Active Min</th>\n",
       "      <th>Idle Mean</th>\n",
       "      <th>Idle Std</th>\n",
       "      <th>Idle Max</th>\n",
       "      <th>Idle Min</th>\n",
       "      <th>Label</th>\n",
       "      <th>Label.1</th>\n",
       "    </tr>\n",
       "  </thead>\n",
       "  <tbody>\n",
       "    <tr>\n",
       "      <th>0</th>\n",
       "      <td>10.152.152.11-216.58.220.99-57158-443-6</td>\n",
       "      <td>10.152.152.11</td>\n",
       "      <td>57158</td>\n",
       "      <td>216.58.220.99</td>\n",
       "      <td>443</td>\n",
       "      <td>6</td>\n",
       "      <td>24/07/2015 04:09:48 PM</td>\n",
       "      <td>229</td>\n",
       "      <td>1</td>\n",
       "      <td>1</td>\n",
       "      <td>...</td>\n",
       "      <td>0</td>\n",
       "      <td>0</td>\n",
       "      <td>0</td>\n",
       "      <td>0</td>\n",
       "      <td>0.000000e+00</td>\n",
       "      <td>0.000000e+00</td>\n",
       "      <td>0.000000e+00</td>\n",
       "      <td>0.000000e+00</td>\n",
       "      <td>Non-Tor</td>\n",
       "      <td>AUDIO-STREAMING</td>\n",
       "    </tr>\n",
       "    <tr>\n",
       "      <th>1</th>\n",
       "      <td>10.152.152.11-216.58.220.99-57159-443-6</td>\n",
       "      <td>10.152.152.11</td>\n",
       "      <td>57159</td>\n",
       "      <td>216.58.220.99</td>\n",
       "      <td>443</td>\n",
       "      <td>6</td>\n",
       "      <td>24/07/2015 04:09:48 PM</td>\n",
       "      <td>407</td>\n",
       "      <td>1</td>\n",
       "      <td>1</td>\n",
       "      <td>...</td>\n",
       "      <td>0</td>\n",
       "      <td>0</td>\n",
       "      <td>0</td>\n",
       "      <td>0</td>\n",
       "      <td>0.000000e+00</td>\n",
       "      <td>0.000000e+00</td>\n",
       "      <td>0.000000e+00</td>\n",
       "      <td>0.000000e+00</td>\n",
       "      <td>Non-Tor</td>\n",
       "      <td>AUDIO-STREAMING</td>\n",
       "    </tr>\n",
       "    <tr>\n",
       "      <th>2</th>\n",
       "      <td>10.152.152.11-216.58.220.99-57160-443-6</td>\n",
       "      <td>10.152.152.11</td>\n",
       "      <td>57160</td>\n",
       "      <td>216.58.220.99</td>\n",
       "      <td>443</td>\n",
       "      <td>6</td>\n",
       "      <td>24/07/2015 04:09:48 PM</td>\n",
       "      <td>431</td>\n",
       "      <td>1</td>\n",
       "      <td>1</td>\n",
       "      <td>...</td>\n",
       "      <td>0</td>\n",
       "      <td>0</td>\n",
       "      <td>0</td>\n",
       "      <td>0</td>\n",
       "      <td>0.000000e+00</td>\n",
       "      <td>0.000000e+00</td>\n",
       "      <td>0.000000e+00</td>\n",
       "      <td>0.000000e+00</td>\n",
       "      <td>Non-Tor</td>\n",
       "      <td>AUDIO-STREAMING</td>\n",
       "    </tr>\n",
       "    <tr>\n",
       "      <th>3</th>\n",
       "      <td>10.152.152.11-74.125.136.120-49134-443-6</td>\n",
       "      <td>10.152.152.11</td>\n",
       "      <td>49134</td>\n",
       "      <td>74.125.136.120</td>\n",
       "      <td>443</td>\n",
       "      <td>6</td>\n",
       "      <td>24/07/2015 04:09:48 PM</td>\n",
       "      <td>359</td>\n",
       "      <td>1</td>\n",
       "      <td>1</td>\n",
       "      <td>...</td>\n",
       "      <td>0</td>\n",
       "      <td>0</td>\n",
       "      <td>0</td>\n",
       "      <td>0</td>\n",
       "      <td>0.000000e+00</td>\n",
       "      <td>0.000000e+00</td>\n",
       "      <td>0.000000e+00</td>\n",
       "      <td>0.000000e+00</td>\n",
       "      <td>Non-Tor</td>\n",
       "      <td>AUDIO-STREAMING</td>\n",
       "    </tr>\n",
       "    <tr>\n",
       "      <th>4</th>\n",
       "      <td>10.152.152.11-173.194.65.127-34697-19305-6</td>\n",
       "      <td>10.152.152.11</td>\n",
       "      <td>34697</td>\n",
       "      <td>173.194.65.127</td>\n",
       "      <td>19305</td>\n",
       "      <td>6</td>\n",
       "      <td>24/07/2015 04:09:45 PM</td>\n",
       "      <td>10778451</td>\n",
       "      <td>591</td>\n",
       "      <td>400</td>\n",
       "      <td>...</td>\n",
       "      <td>0</td>\n",
       "      <td>0</td>\n",
       "      <td>0</td>\n",
       "      <td>0</td>\n",
       "      <td>1.437765e+15</td>\n",
       "      <td>3.117718e+06</td>\n",
       "      <td>1.437765e+15</td>\n",
       "      <td>1.437765e+15</td>\n",
       "      <td>Non-Tor</td>\n",
       "      <td>AUDIO-STREAMING</td>\n",
       "    </tr>\n",
       "  </tbody>\n",
       "</table>\n",
       "<p>5 rows × 85 columns</p>\n",
       "</div>"
      ],
      "text/plain": [
       "                                      Flow ID         Src IP  Src Port  \\\n",
       "0     10.152.152.11-216.58.220.99-57158-443-6  10.152.152.11     57158   \n",
       "1     10.152.152.11-216.58.220.99-57159-443-6  10.152.152.11     57159   \n",
       "2     10.152.152.11-216.58.220.99-57160-443-6  10.152.152.11     57160   \n",
       "3    10.152.152.11-74.125.136.120-49134-443-6  10.152.152.11     49134   \n",
       "4  10.152.152.11-173.194.65.127-34697-19305-6  10.152.152.11     34697   \n",
       "\n",
       "           Dst IP  Dst Port  Protocol               Timestamp  Flow Duration  \\\n",
       "0   216.58.220.99       443         6  24/07/2015 04:09:48 PM            229   \n",
       "1   216.58.220.99       443         6  24/07/2015 04:09:48 PM            407   \n",
       "2   216.58.220.99       443         6  24/07/2015 04:09:48 PM            431   \n",
       "3  74.125.136.120       443         6  24/07/2015 04:09:48 PM            359   \n",
       "4  173.194.65.127     19305         6  24/07/2015 04:09:45 PM       10778451   \n",
       "\n",
       "   Total Fwd Packet  Total Bwd packets  ...  Active Mean  Active Std  \\\n",
       "0                 1                  1  ...            0           0   \n",
       "1                 1                  1  ...            0           0   \n",
       "2                 1                  1  ...            0           0   \n",
       "3                 1                  1  ...            0           0   \n",
       "4               591                400  ...            0           0   \n",
       "\n",
       "   Active Max  Active Min     Idle Mean      Idle Std      Idle Max  \\\n",
       "0           0           0  0.000000e+00  0.000000e+00  0.000000e+00   \n",
       "1           0           0  0.000000e+00  0.000000e+00  0.000000e+00   \n",
       "2           0           0  0.000000e+00  0.000000e+00  0.000000e+00   \n",
       "3           0           0  0.000000e+00  0.000000e+00  0.000000e+00   \n",
       "4           0           0  1.437765e+15  3.117718e+06  1.437765e+15   \n",
       "\n",
       "       Idle Min    Label          Label.1  \n",
       "0  0.000000e+00  Non-Tor  AUDIO-STREAMING  \n",
       "1  0.000000e+00  Non-Tor  AUDIO-STREAMING  \n",
       "2  0.000000e+00  Non-Tor  AUDIO-STREAMING  \n",
       "3  0.000000e+00  Non-Tor  AUDIO-STREAMING  \n",
       "4  1.437765e+15  Non-Tor  AUDIO-STREAMING  \n",
       "\n",
       "[5 rows x 85 columns]"
      ]
     },
     "execution_count": 4,
     "metadata": {},
     "output_type": "execute_result"
    }
   ],
   "source": [
    "data = pd.read_csv(dataset_folder + \"Darknet.CSV\", low_memory=False, error_bad_lines=False)\n",
    "data.head()"
   ]
  },
  {
   "cell_type": "markdown",
   "metadata": {
    "papermill": {
     "duration": 0.029266,
     "end_time": "2022-06-14T11:14:38.075357",
     "exception": false,
     "start_time": "2022-06-14T11:14:38.046091",
     "status": "completed"
    },
    "tags": []
   },
   "source": [
    "# Labels correction 标签更正"
   ]
  },
  {
   "cell_type": "markdown",
   "metadata": {
    "papermill": {
     "duration": 0.030446,
     "end_time": "2022-06-14T11:14:38.135183",
     "exception": false,
     "start_time": "2022-06-14T11:14:38.104737",
     "status": "completed"
    },
    "tags": []
   },
   "source": [
    "## Duplicates fix 重复标签修正"
   ]
  },
  {
   "cell_type": "code",
   "execution_count": 5,
   "metadata": {
    "execution": {
     "iopub.execute_input": "2022-06-14T11:14:38.201213Z",
     "iopub.status.busy": "2022-06-14T11:14:38.200014Z",
     "iopub.status.idle": "2022-06-14T11:14:38.244866Z",
     "shell.execute_reply": "2022-06-14T11:14:38.244371Z",
     "shell.execute_reply.started": "2022-06-14T07:16:21.953126Z"
    },
    "papermill": {
     "duration": 0.079853,
     "end_time": "2022-06-14T11:14:38.244993",
     "exception": false,
     "start_time": "2022-06-14T11:14:38.165140",
     "status": "completed"
    },
    "tags": []
   },
   "outputs": [],
   "source": [
    "samples = data.copy()"
   ]
  },
  {
   "cell_type": "code",
   "execution_count": 6,
   "metadata": {
    "execution": {
     "iopub.execute_input": "2022-06-14T11:14:38.320922Z",
     "iopub.status.busy": "2022-06-14T11:14:38.320063Z",
     "iopub.status.idle": "2022-06-14T11:14:38.337909Z",
     "shell.execute_reply": "2022-06-14T11:14:38.336844Z",
     "shell.execute_reply.started": "2022-06-14T07:16:22.411232Z"
    },
    "papermill": {
     "duration": 0.062485,
     "end_time": "2022-06-14T11:14:38.338036",
     "exception": false,
     "start_time": "2022-06-14T11:14:38.275551",
     "status": "completed"
    },
    "tags": []
   },
   "outputs": [
    {
     "name": "stdout",
     "output_type": "stream",
     "text": [
      "['Non-Tor' 'NonVPN' 'Tor' 'VPN']\n",
      "['AUDIO-STREAMING' 'Browsing' 'Chat' 'Email' 'File-Transfer'\n",
      " 'File-transfer' 'P2P' 'Video-Streaming' 'Audio-Streaming'\n",
      " 'Video-streaming' 'VOIP']\n"
     ]
    }
   ],
   "source": [
    "traffic_labels = samples[\"Label\"].unique()\n",
    "print(traffic_labels)   # 流量类型\n",
    "traffic_type_labels = samples[\"Label.1\"].unique()\n",
    "print(traffic_type_labels)  # 数据标签"
   ]
  },
  {
   "cell_type": "code",
   "execution_count": 7,
   "metadata": {
    "execution": {
     "iopub.execute_input": "2022-06-14T11:14:38.422491Z",
     "iopub.status.busy": "2022-06-14T11:14:38.421772Z",
     "iopub.status.idle": "2022-06-14T11:14:38.476158Z",
     "shell.execute_reply": "2022-06-14T11:14:38.476786Z",
     "shell.execute_reply.started": "2022-06-14T07:16:24.694995Z"
    },
    "papermill": {
     "duration": 0.108281,
     "end_time": "2022-06-14T11:14:38.476967",
     "exception": false,
     "start_time": "2022-06-14T11:14:38.368686",
     "status": "completed"
    },
    "tags": []
   },
   "outputs": [
    {
     "name": "stdout",
     "output_type": "stream",
     "text": [
      "['Audio-Streaming' 'Browsing' 'Chat' 'Email' 'File-Transfer' 'P2P'\n",
      " 'Video-Streaming' 'VOIP']\n"
     ]
    },
    {
     "name": "stderr",
     "output_type": "stream",
     "text": [
      "/opt/conda/lib/python3.7/site-packages/pandas/core/indexing.py:670: SettingWithCopyWarning: \n",
      "A value is trying to be set on a copy of a slice from a DataFrame\n",
      "\n",
      "See the caveats in the documentation: https://pandas.pydata.org/pandas-docs/stable/user_guide/indexing.html#returning-a-view-versus-a-copy\n",
      "  iloc._setitem_with_indexer(indexer, value)\n"
     ]
    }
   ],
   "source": [
    "samples['Label.1'].loc[samples['Label.1'] == 'AUDIO-STREAMING'] = 'Audio-Streaming'\n",
    "samples['Label.1'].loc[samples['Label.1'] == 'File-transfer'] = 'File-Transfer'\n",
    "samples['Label.1'].loc[samples['Label.1'] == 'Video-streaming'] = 'Video-Streaming'\n",
    "\n",
    "traffic_type_labels = samples[\"Label.1\"].unique()\n",
    "print(traffic_type_labels)"
   ]
  },
  {
   "cell_type": "markdown",
   "metadata": {
    "papermill": {
     "duration": 0.030618,
     "end_time": "2022-06-14T11:14:38.539268",
     "exception": false,
     "start_time": "2022-06-14T11:14:38.508650",
     "status": "completed"
    },
    "tags": []
   },
   "source": [
    "## Grouping in Benign and Darknet 明暗网分组"
   ]
  },
  {
   "cell_type": "code",
   "execution_count": 8,
   "metadata": {
    "execution": {
     "iopub.execute_input": "2022-06-14T11:14:38.614230Z",
     "iopub.status.busy": "2022-06-14T11:14:38.613437Z",
     "iopub.status.idle": "2022-06-14T11:14:38.619353Z",
     "shell.execute_reply": "2022-06-14T11:14:38.619775Z",
     "shell.execute_reply.started": "2022-06-14T07:17:53.464477Z"
    },
    "papermill": {
     "duration": 0.049803,
     "end_time": "2022-06-14T11:14:38.619906",
     "exception": false,
     "start_time": "2022-06-14T11:14:38.570103",
     "status": "completed"
    },
    "tags": []
   },
   "outputs": [
    {
     "name": "stdout",
     "output_type": "stream",
     "text": [
      "['Non-Tor' 'NonVPN' 'Tor' 'VPN']\n"
     ]
    }
   ],
   "source": [
    "# samples['Label'].loc[(samples['Label'] == 'Non-Tor') | (samples['Label'] == 'NonVPN')] = 'Benign'  # 明网\n",
    "# samples['Label'].loc[(samples['Label'] == 'Tor') | (samples['Label'] == 'VPN')] = 'Darknet'  # 暗网\n",
    "\n",
    "traffic_labels = samples[\"Label\"].unique()\n",
    "print(traffic_labels)"
   ]
  },
  {
   "cell_type": "markdown",
   "metadata": {
    "papermill": {
     "duration": 0.030736,
     "end_time": "2022-06-14T11:14:38.683197",
     "exception": false,
     "start_time": "2022-06-14T11:14:38.652461",
     "status": "completed"
    },
    "tags": []
   },
   "source": [
    "# Timestamp feature extraction 时间戳特征提取"
   ]
  },
  {
   "cell_type": "code",
   "execution_count": 9,
   "metadata": {
    "execution": {
     "iopub.execute_input": "2022-06-14T11:14:38.751137Z",
     "iopub.status.busy": "2022-06-14T11:14:38.750625Z",
     "iopub.status.idle": "2022-06-14T11:14:38.756550Z",
     "shell.execute_reply": "2022-06-14T11:14:38.755994Z",
     "shell.execute_reply.started": "2022-06-14T07:18:00.505168Z"
    },
    "papermill": {
     "duration": 0.042062,
     "end_time": "2022-06-14T11:14:38.756667",
     "exception": false,
     "start_time": "2022-06-14T11:14:38.714605",
     "status": "completed"
    },
    "tags": []
   },
   "outputs": [
    {
     "data": {
      "text/plain": [
       "'04'"
      ]
     },
     "execution_count": 9,
     "metadata": {},
     "output_type": "execute_result"
    }
   ],
   "source": [
    "time = \"24/07/2015 04:09:48 PM\"\n",
    "time.split()[1].split(':')[0]"
   ]
  },
  {
   "cell_type": "code",
   "execution_count": 10,
   "metadata": {
    "execution": {
     "iopub.execute_input": "2022-06-14T11:14:38.837159Z",
     "iopub.status.busy": "2022-06-14T11:14:38.836409Z",
     "iopub.status.idle": "2022-06-14T11:14:39.076048Z",
     "shell.execute_reply": "2022-06-14T11:14:39.076640Z",
     "shell.execute_reply.started": "2022-06-14T07:18:00.805274Z"
    },
    "papermill": {
     "duration": 0.288596,
     "end_time": "2022-06-14T11:14:39.076802",
     "exception": false,
     "start_time": "2022-06-14T11:14:38.788206",
     "status": "completed"
    },
    "tags": []
   },
   "outputs": [
    {
     "name": "stdout",
     "output_type": "stream",
     "text": [
      "                Timestamp  hour\n",
      "0  24/07/2015 04:09:48 PM     4\n",
      "1  24/07/2015 04:09:48 PM     4\n",
      "2  24/07/2015 04:09:48 PM     4\n",
      "3  24/07/2015 04:09:48 PM     4\n",
      "4  24/07/2015 04:09:45 PM     4\n"
     ]
    }
   ],
   "source": [
    "# 24/07/2015 04:09:48 PM\n",
    "hours = []\n",
    "for timestamp in samples['Timestamp']:\n",
    "    hora = int(timestamp.split()[1].split(':')[0])  \n",
    "    hours.append(hora)\n",
    "samples['hour'] = hours\n",
    "print(samples[['Timestamp', 'hour']][:5])"
   ]
  },
  {
   "cell_type": "markdown",
   "metadata": {
    "papermill": {
     "duration": 0.032482,
     "end_time": "2022-06-14T11:14:40.244346",
     "exception": false,
     "start_time": "2022-06-14T11:14:40.211864",
     "status": "completed"
    },
    "tags": []
   },
   "source": [
    "## Ips details extraction 详细信息提取"
   ]
  },
  {
   "cell_type": "code",
   "execution_count": 14,
   "metadata": {
    "execution": {
     "iopub.execute_input": "2022-06-14T11:14:40.318355Z",
     "iopub.status.busy": "2022-06-14T11:14:40.317541Z",
     "iopub.status.idle": "2022-06-14T11:14:40.320574Z",
     "shell.execute_reply": "2022-06-14T11:14:40.320101Z",
     "shell.execute_reply.started": "2022-06-14T07:18:10.790797Z"
    },
    "papermill": {
     "duration": 0.043485,
     "end_time": "2022-06-14T11:14:40.320701",
     "exception": false,
     "start_time": "2022-06-14T11:14:40.277216",
     "status": "completed"
    },
    "tags": []
   },
   "outputs": [],
   "source": [
    "def get_ip_detail(ip, ip_dict, repeated):  # 当IP详细信息未知时\n",
    "    if ip not in ip_dict.keys():\n",
    "        details = ipinfo_handler.getDetails(ip)\n",
    "        ip_dict[ip] = details.all\n",
    "    else:\n",
    "        repeated += 1\n",
    "    return repeated\n",
    "\n",
    "def dump_ips(ip_dict, folder):\n",
    "    j = json.dumps(ip_dict)\n",
    "    f = open(folder+\"ips_dict.json\",\"w\")\n",
    "    f.write(j)\n",
    "    f.close()\n",
    "\n",
    "def load_ips(file):\n",
    "    data = {}\n",
    "    with open(file) as json_file:\n",
    "        data = json.load(json_file)\n",
    "    return data"
   ]
  },
  {
   "cell_type": "code",
   "execution_count": 15,
   "metadata": {
    "execution": {
     "iopub.execute_input": "2022-06-14T11:14:40.390557Z",
     "iopub.status.busy": "2022-06-14T11:14:40.389995Z",
     "iopub.status.idle": "2022-06-14T11:14:40.473887Z",
     "shell.execute_reply": "2022-06-14T11:14:40.473147Z",
     "shell.execute_reply.started": "2022-06-14T07:18:12.020261Z"
    },
    "papermill": {
     "duration": 0.120213,
     "end_time": "2022-06-14T11:14:40.474055",
     "exception": false,
     "start_time": "2022-06-14T11:14:40.353842",
     "status": "completed"
    },
    "tags": []
   },
   "outputs": [],
   "source": [
    "ip_dict = load_ips(\"../input/ips-information/ips_dict.json\")"
   ]
  },
  {
   "cell_type": "code",
   "execution_count": 16,
   "metadata": {
    "execution": {
     "iopub.execute_input": "2022-06-14T11:14:40.554217Z",
     "iopub.status.busy": "2022-06-14T11:14:40.553463Z",
     "iopub.status.idle": "2022-06-14T11:14:40.635326Z",
     "shell.execute_reply": "2022-06-14T11:14:40.634437Z",
     "shell.execute_reply.started": "2022-06-14T07:18:12.387533Z"
    },
    "papermill": {
     "duration": 0.127906,
     "end_time": "2022-06-14T11:14:40.635456",
     "exception": false,
     "start_time": "2022-06-14T11:14:40.507550",
     "status": "completed"
    },
    "tags": []
   },
   "outputs": [
    {
     "name": "stderr",
     "output_type": "stream",
     "text": [
      "100%|██████████| 11111/11111 [00:00<00:00, 778622.82it/s]\n"
     ]
    }
   ],
   "source": [
    "ips = np.concatenate((samples[\"Src IP\"].unique(), samples[\"Dst IP\"].unique())) \n",
    "for i in tqdm(range(len(ips))):\n",
    "    get_ip_detail(ips[i], ip_dict, 0)\n",
    "dump_ips(ip_dict, \"\")"
   ]
  },
  {
   "cell_type": "code",
   "execution_count": 17,
   "metadata": {
    "execution": {
     "iopub.execute_input": "2022-06-14T11:14:40.710930Z",
     "iopub.status.busy": "2022-06-14T11:14:40.710141Z",
     "iopub.status.idle": "2022-06-14T11:14:41.105944Z",
     "shell.execute_reply": "2022-06-14T11:14:41.106580Z",
     "shell.execute_reply.started": "2022-06-14T07:18:12.980138Z"
    },
    "papermill": {
     "duration": 0.437215,
     "end_time": "2022-06-14T11:14:41.106781",
     "exception": false,
     "start_time": "2022-06-14T11:14:40.669566",
     "status": "completed"
    },
    "scrolled": true,
    "tags": []
   },
   "outputs": [
    {
     "name": "stderr",
     "output_type": "stream",
     "text": [
      "100%|██████████| 141530/141530 [00:00<00:00, 422602.68it/s]\n"
     ]
    }
   ],
   "source": [
    "ips_tuple = zip(samples[\"Src IP\"], samples[\"Dst IP\"])\n",
    "dst_ip_country = []\n",
    "src_ip_country = []\n",
    "src_bogon = []  # bogon:来源于bogon空间的虚假IP地址\n",
    "dst_bogon = []\n",
    "\n",
    "for src_ip, dst_ip in tqdm(ips_tuple, total=len(samples[\"Src IP\"])):\n",
    "    if 'country' in ip_dict[dst_ip].keys():\n",
    "        dst_ip_country.append(ip_dict[dst_ip]['country'])\n",
    "    else:\n",
    "        dst_ip_country.append(\"\")\n",
    "    if 'country' in ip_dict[src_ip].keys():\n",
    "        src_ip_country.append(ip_dict[src_ip]['country'])\n",
    "    else:\n",
    "        src_ip_country.append(\"\")\n",
    "    if 'bogon' in ip_dict[dst_ip].keys():\n",
    "        dst_bogon.append(ip_dict[dst_ip]['bogon'])\n",
    "    else:\n",
    "        dst_bogon.append(False)\n",
    "    if 'bogon' in ip_dict[src_ip].keys():\n",
    "        src_bogon.append(ip_dict[src_ip]['bogon'])\n",
    "    else:\n",
    "        src_bogon.append(False)\n",
    "samples['src_ip_country'] = src_ip_country\n",
    "samples['dst_ip_country'] = dst_ip_country\n",
    "samples['src_bogon'] = src_bogon\n",
    "samples['dst_bogon'] = dst_bogon"
   ]
  },
  {
   "cell_type": "code",
   "execution_count": 18,
   "metadata": {
    "execution": {
     "iopub.execute_input": "2022-06-14T11:14:41.182472Z",
     "iopub.status.busy": "2022-06-14T11:14:41.181626Z",
     "iopub.status.idle": "2022-06-14T11:14:41.276533Z",
     "shell.execute_reply": "2022-06-14T11:14:41.275859Z",
     "shell.execute_reply.started": "2022-06-14T07:18:13.894983Z"
    },
    "papermill": {
     "duration": 0.134336,
     "end_time": "2022-06-14T11:14:41.276707",
     "exception": false,
     "start_time": "2022-06-14T11:14:41.142371",
     "status": "completed"
    },
    "tags": []
   },
   "outputs": [
    {
     "name": "stdout",
     "output_type": "stream",
     "text": [
      "     src_ip_country dst_ip_country  src_bogon  dst_bogon\n",
      "1011                            IE       True      False\n",
      "1012             IE                     False       True\n",
      "1013                            US       True      False\n",
      "1014             US                     False       True\n"
     ]
    }
   ],
   "source": [
    "print(samples[[\"src_ip_country\",\"dst_ip_country\",\"src_bogon\",\"dst_bogon\"]][1011:1015])"
   ]
  },
  {
   "cell_type": "markdown",
   "metadata": {
    "papermill": {
     "duration": 0.035461,
     "end_time": "2022-06-14T11:14:41.348670",
     "exception": false,
     "start_time": "2022-06-14T11:14:41.313209",
     "status": "completed"
    },
    "tags": []
   },
   "source": [
    "# Handling missing and infinity data 处理缺失和无限值"
   ]
  },
  {
   "cell_type": "code",
   "execution_count": 19,
   "metadata": {
    "execution": {
     "iopub.execute_input": "2022-06-14T11:14:41.423851Z",
     "iopub.status.busy": "2022-06-14T11:14:41.423219Z",
     "iopub.status.idle": "2022-06-14T11:14:41.427758Z",
     "shell.execute_reply": "2022-06-14T11:14:41.428375Z",
     "shell.execute_reply.started": "2022-06-14T07:18:16.803634Z"
    },
    "papermill": {
     "duration": 0.045707,
     "end_time": "2022-06-14T11:14:41.428538",
     "exception": false,
     "start_time": "2022-06-14T11:14:41.382831",
     "status": "completed"
    },
    "tags": []
   },
   "outputs": [
    {
     "name": "stdout",
     "output_type": "stream",
     "text": [
      "['Flow Duration', 'Total Fwd Packet', 'Total Bwd packets', 'Total Length of Fwd Packet', 'Total Length of Bwd Packet', 'Fwd Packet Length Max', 'Fwd Packet Length Min', 'Fwd Packet Length Mean', 'Fwd Packet Length Std', 'Bwd Packet Length Max', 'Bwd Packet Length Min', 'Bwd Packet Length Mean', 'Bwd Packet Length Std', 'Flow Bytes/s', 'Flow Packets/s', 'Flow IAT Mean', 'Flow IAT Std', 'Flow IAT Max', 'Flow IAT Min', 'Fwd IAT Total', 'Fwd IAT Mean', 'Fwd IAT Std', 'Fwd IAT Max', 'Fwd IAT Min', 'Bwd IAT Total', 'Bwd IAT Mean', 'Bwd IAT Std', 'Bwd IAT Max', 'Bwd IAT Min', 'Fwd PSH Flags', 'Bwd PSH Flags', 'Fwd URG Flags', 'Bwd URG Flags', 'Fwd Header Length', 'Bwd Header Length', 'Fwd Packets/s', 'Bwd Packets/s', 'Packet Length Min', 'Packet Length Max', 'Packet Length Mean', 'Packet Length Std', 'Packet Length Variance', 'FIN Flag Count', 'SYN Flag Count', 'RST Flag Count', 'PSH Flag Count', 'ACK Flag Count', 'URG Flag Count', 'CWE Flag Count', 'ECE Flag Count', 'Down/Up Ratio', 'Average Packet Size', 'Fwd Segment Size Avg', 'Bwd Segment Size Avg', 'Fwd Bytes/Bulk Avg', 'Fwd Packet/Bulk Avg', 'Fwd Bulk Rate Avg', 'Bwd Bytes/Bulk Avg', 'Bwd Packet/Bulk Avg', 'Bwd Bulk Rate Avg', 'Subflow Fwd Packets', 'Subflow Fwd Bytes', 'Subflow Bwd Packets', 'Subflow Bwd Bytes', 'FWD Init Win Bytes', 'Bwd Init Win Bytes', 'Fwd Act Data Pkts', 'Fwd Seg Size Min']\n"
     ]
    }
   ],
   "source": [
    "real_columns = ['Flow Duration', 'Total Fwd Packet', 'Total Bwd packets', 'Total Length of Fwd Packet', 'Total Length of Bwd Packet', 'Fwd Packet Length Max', 'Fwd Packet Length Min', 'Fwd Packet Length Mean', 'Fwd Packet Length Std', 'Bwd Packet Length Max', 'Bwd Packet Length Min', 'Bwd Packet Length Mean', 'Bwd Packet Length Std', 'Flow Bytes/s', 'Flow Packets/s', 'Flow IAT Mean', 'Flow IAT Std', 'Flow IAT Max', 'Flow IAT Min', 'Fwd IAT Total', 'Fwd IAT Mean', 'Fwd IAT Std', 'Fwd IAT Max', 'Fwd IAT Min', 'Bwd IAT Total', 'Bwd IAT Mean', 'Bwd IAT Std', 'Bwd IAT Max', 'Bwd IAT Min', 'Fwd PSH Flags', 'Bwd PSH Flags', 'Fwd URG Flags', 'Bwd URG Flags', 'Fwd Header Length', 'Bwd Header Length', 'Fwd Packets/s', 'Bwd Packets/s', 'Packet Length Min', 'Packet Length Max', 'Packet Length Mean', 'Packet Length Std', 'Packet Length Variance', 'FIN Flag Count', 'SYN Flag Count', 'RST Flag Count', 'PSH Flag Count', 'ACK Flag Count', 'URG Flag Count', 'CWE Flag Count', 'ECE Flag Count', 'Down/Up Ratio', 'Average Packet Size', 'Fwd Segment Size Avg', 'Bwd Segment Size Avg', 'Fwd Bytes/Bulk Avg', 'Fwd Packet/Bulk Avg', 'Fwd Bulk Rate Avg', 'Bwd Bytes/Bulk Avg', 'Bwd Packet/Bulk Avg', 'Bwd Bulk Rate Avg', 'Subflow Fwd Packets', 'Subflow Fwd Bytes', 'Subflow Bwd Packets', 'Subflow Bwd Bytes', 'FWD Init Win Bytes', 'Bwd Init Win Bytes', 'Fwd Act Data Pkts', 'Fwd Seg Size Min']\n",
    "print(real_columns)"
   ]
  },
  {
   "cell_type": "code",
   "execution_count": 20,
   "metadata": {
    "execution": {
     "iopub.execute_input": "2022-06-14T11:14:41.502378Z",
     "iopub.status.busy": "2022-06-14T11:14:41.501427Z",
     "iopub.status.idle": "2022-06-14T11:14:41.977565Z",
     "shell.execute_reply": "2022-06-14T11:14:41.978622Z",
     "shell.execute_reply.started": "2022-06-14T07:18:17.078586Z"
    },
    "papermill": {
     "duration": 0.51606,
     "end_time": "2022-06-14T11:14:41.978853",
     "exception": false,
     "start_time": "2022-06-14T11:14:41.462793",
     "status": "completed"
    },
    "tags": []
   },
   "outputs": [
    {
     "data": {
      "text/plain": [
       "Flow Bytes/s    47\n",
       "dtype: int64"
      ]
     },
     "execution_count": 20,
     "metadata": {},
     "output_type": "execute_result"
    }
   ],
   "source": [
    "is_na_cols = samples.columns[samples.isna().sum() > 0]  # isna():检测一个值为#N/A 缺失值\n",
    "samples.isna().sum()[is_na_cols] "
   ]
  },
  {
   "cell_type": "code",
   "execution_count": 21,
   "metadata": {
    "execution": {
     "iopub.execute_input": "2022-06-14T11:14:42.116417Z",
     "iopub.status.busy": "2022-06-14T11:14:42.115491Z",
     "iopub.status.idle": "2022-06-14T11:14:42.784458Z",
     "shell.execute_reply": "2022-06-14T11:14:42.784993Z",
     "shell.execute_reply.started": "2022-06-14T07:18:17.532353Z"
    },
    "papermill": {
     "duration": 0.741702,
     "end_time": "2022-06-14T11:14:42.785179",
     "exception": false,
     "start_time": "2022-06-14T11:14:42.043477",
     "status": "completed"
    },
    "tags": []
   },
   "outputs": [
    {
     "data": {
      "text/plain": [
       "Flow Bytes/s    0\n",
       "dtype: int64"
      ]
     },
     "execution_count": 21,
     "metadata": {},
     "output_type": "execute_result"
    }
   ],
   "source": [
    "samples = samples.dropna()   # dropna:删除缺失值所在的行\n",
    "samples.isna().sum()[is_na_cols] "
   ]
  },
  {
   "cell_type": "code",
   "execution_count": 22,
   "metadata": {
    "execution": {
     "iopub.execute_input": "2022-06-14T11:14:42.884538Z",
     "iopub.status.busy": "2022-06-14T11:14:42.883340Z",
     "iopub.status.idle": "2022-06-14T11:14:43.733169Z",
     "shell.execute_reply": "2022-06-14T11:14:43.732686Z",
     "shell.execute_reply.started": "2022-06-14T07:18:18.679521Z"
    },
    "papermill": {
     "duration": 0.912403,
     "end_time": "2022-06-14T11:14:43.733321",
     "exception": false,
     "start_time": "2022-06-14T11:14:42.820918",
     "status": "completed"
    },
    "tags": []
   },
   "outputs": [],
   "source": [
    "samples[real_columns] = samples[real_columns].astype(np.float64)\n",
    "samples[real_columns] = samples[real_columns].replace([np.inf, -np.inf], np.nan)  # 无限值 -> 缺失值\n",
    "samples[real_columns] = samples[real_columns].dropna()  "
   ]
  },
  {
   "cell_type": "markdown",
   "metadata": {
    "papermill": {
     "duration": 0.03574,
     "end_time": "2022-06-14T11:14:43.805330",
     "exception": false,
     "start_time": "2022-06-14T11:14:43.769590",
     "status": "completed"
    },
    "tags": []
   },
   "source": [
    "# Irrelevant attributes removal 删除不相关的属性"
   ]
  },
  {
   "cell_type": "code",
   "execution_count": 23,
   "metadata": {
    "execution": {
     "iopub.execute_input": "2022-06-14T11:14:43.882074Z",
     "iopub.status.busy": "2022-06-14T11:14:43.880831Z",
     "iopub.status.idle": "2022-06-14T11:14:44.037251Z",
     "shell.execute_reply": "2022-06-14T11:14:44.036734Z",
     "shell.execute_reply.started": "2022-06-14T07:19:40.246757Z"
    },
    "papermill": {
     "duration": 0.197111,
     "end_time": "2022-06-14T11:14:44.037413",
     "exception": false,
     "start_time": "2022-06-14T11:14:43.840302",
     "status": "completed"
    },
    "tags": []
   },
   "outputs": [],
   "source": [
    "model_samples = samples.copy()\n",
    "# 删除了流量序号、源 IP 地址、目的 IP 地址、时间戳\n",
    "del model_samples['Flow ID']\n",
    "del model_samples['Timestamp']\n",
    "del model_samples['Src IP']\n",
    "del model_samples['Dst IP']"
   ]
  },
  {
   "cell_type": "code",
   "execution_count": 24,
   "metadata": {
    "execution": {
     "iopub.execute_input": "2022-06-14T11:14:44.116649Z",
     "iopub.status.busy": "2022-06-14T11:14:44.115638Z",
     "iopub.status.idle": "2022-06-14T11:14:44.174421Z",
     "shell.execute_reply": "2022-06-14T11:14:44.173819Z",
     "shell.execute_reply.started": "2022-06-14T07:19:40.714151Z"
    },
    "papermill": {
     "duration": 0.101372,
     "end_time": "2022-06-14T11:14:44.174567",
     "exception": false,
     "start_time": "2022-06-14T11:14:44.073195",
     "status": "completed"
    },
    "tags": []
   },
   "outputs": [],
   "source": [
    "cols = np.concatenate((model_samples.columns[81:], model_samples.columns[:81]))\n",
    "model_samples = model_samples[cols]"
   ]
  },
  {
   "cell_type": "code",
   "execution_count": 25,
   "metadata": {
    "execution": {
     "iopub.execute_input": "2022-06-14T11:14:44.252929Z",
     "iopub.status.busy": "2022-06-14T11:14:44.252094Z",
     "iopub.status.idle": "2022-06-14T11:14:44.256285Z",
     "shell.execute_reply": "2022-06-14T11:14:44.255801Z",
     "shell.execute_reply.started": "2022-06-14T07:19:40.848815Z"
    },
    "papermill": {
     "duration": 0.045273,
     "end_time": "2022-06-14T11:14:44.256413",
     "exception": false,
     "start_time": "2022-06-14T11:14:44.211140",
     "status": "completed"
    },
    "scrolled": true,
    "tags": []
   },
   "outputs": [
    {
     "data": {
      "text/plain": [
       "Index(['hour', 'src_ip_1gram', 'src_ip_2gram', 'src_ip_3gram', 'dst_ip_1gram',\n",
       "       'dst_ip_2gram', 'dst_ip_3gram', 'src_ip_country', 'dst_ip_country',\n",
       "       'src_bogon', 'dst_bogon', 'Src Port', 'Dst Port', 'Protocol',\n",
       "       'Flow Duration', 'Total Fwd Packet', 'Total Bwd packets',\n",
       "       'Total Length of Fwd Packet', 'Total Length of Bwd Packet',\n",
       "       'Fwd Packet Length Max', 'Fwd Packet Length Min',\n",
       "       'Fwd Packet Length Mean', 'Fwd Packet Length Std',\n",
       "       'Bwd Packet Length Max', 'Bwd Packet Length Min',\n",
       "       'Bwd Packet Length Mean', 'Bwd Packet Length Std', 'Flow Bytes/s',\n",
       "       'Flow Packets/s', 'Flow IAT Mean', 'Flow IAT Std', 'Flow IAT Max',\n",
       "       'Flow IAT Min', 'Fwd IAT Total', 'Fwd IAT Mean', 'Fwd IAT Std',\n",
       "       'Fwd IAT Max', 'Fwd IAT Min', 'Bwd IAT Total', 'Bwd IAT Mean',\n",
       "       'Bwd IAT Std', 'Bwd IAT Max', 'Bwd IAT Min', 'Fwd PSH Flags',\n",
       "       'Bwd PSH Flags', 'Fwd URG Flags', 'Bwd URG Flags', 'Fwd Header Length',\n",
       "       'Bwd Header Length', 'Fwd Packets/s', 'Bwd Packets/s',\n",
       "       'Packet Length Min', 'Packet Length Max', 'Packet Length Mean',\n",
       "       'Packet Length Std', 'Packet Length Variance', 'FIN Flag Count',\n",
       "       'SYN Flag Count', 'RST Flag Count', 'PSH Flag Count', 'ACK Flag Count',\n",
       "       'URG Flag Count', 'CWE Flag Count', 'ECE Flag Count', 'Down/Up Ratio',\n",
       "       'Average Packet Size', 'Fwd Segment Size Avg', 'Bwd Segment Size Avg',\n",
       "       'Fwd Bytes/Bulk Avg', 'Fwd Packet/Bulk Avg', 'Fwd Bulk Rate Avg',\n",
       "       'Bwd Bytes/Bulk Avg', 'Bwd Packet/Bulk Avg', 'Bwd Bulk Rate Avg',\n",
       "       'Subflow Fwd Packets', 'Subflow Fwd Bytes', 'Subflow Bwd Packets',\n",
       "       'Subflow Bwd Bytes', 'FWD Init Win Bytes', 'Bwd Init Win Bytes',\n",
       "       'Fwd Act Data Pkts', 'Fwd Seg Size Min', 'Active Mean', 'Active Std',\n",
       "       'Active Max', 'Active Min', 'Idle Mean', 'Idle Std', 'Idle Max',\n",
       "       'Idle Min', 'Label', 'Label.1'],\n",
       "      dtype='object')"
      ]
     },
     "execution_count": 25,
     "metadata": {},
     "output_type": "execute_result"
    }
   ],
   "source": [
    "model_samples.columns"
   ]
  },
  {
   "cell_type": "markdown",
   "metadata": {
    "papermill": {
     "duration": 0.038245,
     "end_time": "2022-06-14T11:14:44.332198",
     "exception": false,
     "start_time": "2022-06-14T11:14:44.293953",
     "status": "completed"
    },
    "tags": []
   },
   "source": [
    "# Features encoding 特征编码"
   ]
  },
  {
   "cell_type": "markdown",
   "metadata": {
    "papermill": {
     "duration": 0.037495,
     "end_time": "2022-06-14T11:16:45.300780",
     "exception": false,
     "start_time": "2022-06-14T11:16:45.263285",
     "status": "completed"
    },
    "tags": []
   },
   "source": [
    "## Numerical features scaling 数值类别特征缩放"
   ]
  },
  {
   "cell_type": "code",
   "execution_count": 31,
   "metadata": {
    "execution": {
     "iopub.execute_input": "2022-06-14T11:16:45.408918Z",
     "iopub.status.busy": "2022-06-14T11:16:45.407830Z",
     "iopub.status.idle": "2022-06-14T11:16:48.445504Z",
     "shell.execute_reply": "2022-06-14T11:16:48.444866Z",
     "shell.execute_reply.started": "2022-06-14T07:22:27.686899Z"
    },
    "papermill": {
     "duration": 3.107277,
     "end_time": "2022-06-14T11:16:48.445635",
     "exception": false,
     "start_time": "2022-06-14T11:16:45.338358",
     "status": "completed"
    },
    "scrolled": true,
    "tags": []
   },
   "outputs": [
    {
     "data": {
      "text/html": [
       "<div>\n",
       "<style scoped>\n",
       "    .dataframe tbody tr th:only-of-type {\n",
       "        vertical-align: middle;\n",
       "    }\n",
       "\n",
       "    .dataframe tbody tr th {\n",
       "        vertical-align: top;\n",
       "    }\n",
       "\n",
       "    .dataframe thead th {\n",
       "        text-align: right;\n",
       "    }\n",
       "</style>\n",
       "<table border=\"1\" class=\"dataframe\">\n",
       "  <thead>\n",
       "    <tr style=\"text-align: right;\">\n",
       "      <th></th>\n",
       "      <th>Flow Duration</th>\n",
       "      <th>Total Fwd Packet</th>\n",
       "      <th>Total Bwd packets</th>\n",
       "      <th>Total Length of Fwd Packet</th>\n",
       "      <th>Total Length of Bwd Packet</th>\n",
       "      <th>Fwd Packet Length Max</th>\n",
       "      <th>Fwd Packet Length Min</th>\n",
       "      <th>Fwd Packet Length Mean</th>\n",
       "      <th>Fwd Packet Length Std</th>\n",
       "      <th>Bwd Packet Length Max</th>\n",
       "      <th>...</th>\n",
       "      <th>Bwd Packet/Bulk Avg</th>\n",
       "      <th>Bwd Bulk Rate Avg</th>\n",
       "      <th>Subflow Fwd Packets</th>\n",
       "      <th>Subflow Fwd Bytes</th>\n",
       "      <th>Subflow Bwd Packets</th>\n",
       "      <th>Subflow Bwd Bytes</th>\n",
       "      <th>FWD Init Win Bytes</th>\n",
       "      <th>Bwd Init Win Bytes</th>\n",
       "      <th>Fwd Act Data Pkts</th>\n",
       "      <th>Fwd Seg Size Min</th>\n",
       "    </tr>\n",
       "  </thead>\n",
       "  <tbody>\n",
       "    <tr>\n",
       "      <th>0</th>\n",
       "      <td>-0.546508</td>\n",
       "      <td>-0.063838</td>\n",
       "      <td>-0.044949</td>\n",
       "      <td>-0.034644</td>\n",
       "      <td>-0.028574</td>\n",
       "      <td>-0.321759</td>\n",
       "      <td>-0.498852</td>\n",
       "      <td>-0.316449</td>\n",
       "      <td>-0.379416</td>\n",
       "      <td>-0.292366</td>\n",
       "      <td>...</td>\n",
       "      <td>-0.052228</td>\n",
       "      <td>-0.043209</td>\n",
       "      <td>-0.634075</td>\n",
       "      <td>-0.313203</td>\n",
       "      <td>0.0</td>\n",
       "      <td>-0.413046</td>\n",
       "      <td>-0.345303</td>\n",
       "      <td>-0.095141</td>\n",
       "      <td>-0.061219</td>\n",
       "      <td>0.589647</td>\n",
       "    </tr>\n",
       "    <tr>\n",
       "      <th>1</th>\n",
       "      <td>-0.546503</td>\n",
       "      <td>-0.063838</td>\n",
       "      <td>-0.044949</td>\n",
       "      <td>-0.034644</td>\n",
       "      <td>-0.028574</td>\n",
       "      <td>-0.321759</td>\n",
       "      <td>-0.498852</td>\n",
       "      <td>-0.316449</td>\n",
       "      <td>-0.379416</td>\n",
       "      <td>-0.292366</td>\n",
       "      <td>...</td>\n",
       "      <td>-0.052228</td>\n",
       "      <td>-0.043209</td>\n",
       "      <td>-0.634075</td>\n",
       "      <td>-0.313203</td>\n",
       "      <td>0.0</td>\n",
       "      <td>-0.413046</td>\n",
       "      <td>-0.335704</td>\n",
       "      <td>-0.095141</td>\n",
       "      <td>-0.061219</td>\n",
       "      <td>0.589647</td>\n",
       "    </tr>\n",
       "    <tr>\n",
       "      <th>2</th>\n",
       "      <td>-0.546502</td>\n",
       "      <td>-0.063838</td>\n",
       "      <td>-0.044949</td>\n",
       "      <td>-0.034644</td>\n",
       "      <td>-0.028574</td>\n",
       "      <td>-0.321759</td>\n",
       "      <td>-0.498852</td>\n",
       "      <td>-0.316449</td>\n",
       "      <td>-0.379416</td>\n",
       "      <td>-0.292366</td>\n",
       "      <td>...</td>\n",
       "      <td>-0.052228</td>\n",
       "      <td>-0.043209</td>\n",
       "      <td>-0.634075</td>\n",
       "      <td>-0.313203</td>\n",
       "      <td>0.0</td>\n",
       "      <td>-0.413046</td>\n",
       "      <td>-0.329439</td>\n",
       "      <td>-0.095141</td>\n",
       "      <td>-0.061219</td>\n",
       "      <td>0.589647</td>\n",
       "    </tr>\n",
       "    <tr>\n",
       "      <th>3</th>\n",
       "      <td>-0.546504</td>\n",
       "      <td>-0.063838</td>\n",
       "      <td>-0.044949</td>\n",
       "      <td>-0.034644</td>\n",
       "      <td>-0.028574</td>\n",
       "      <td>-0.321759</td>\n",
       "      <td>-0.498852</td>\n",
       "      <td>-0.316449</td>\n",
       "      <td>-0.379416</td>\n",
       "      <td>-0.292366</td>\n",
       "      <td>...</td>\n",
       "      <td>-0.052228</td>\n",
       "      <td>-0.043209</td>\n",
       "      <td>-0.634075</td>\n",
       "      <td>-0.313203</td>\n",
       "      <td>0.0</td>\n",
       "      <td>-0.413046</td>\n",
       "      <td>-0.333582</td>\n",
       "      <td>-0.095141</td>\n",
       "      <td>-0.061219</td>\n",
       "      <td>0.589647</td>\n",
       "    </tr>\n",
       "    <tr>\n",
       "      <th>4</th>\n",
       "      <td>-0.263585</td>\n",
       "      <td>0.184194</td>\n",
       "      <td>0.071741</td>\n",
       "      <td>-0.014801</td>\n",
       "      <td>-0.027116</td>\n",
       "      <td>-0.120075</td>\n",
       "      <td>-0.498852</td>\n",
       "      <td>0.179861</td>\n",
       "      <td>-0.247304</td>\n",
       "      <td>0.340530</td>\n",
       "      <td>...</td>\n",
       "      <td>0.164343</td>\n",
       "      <td>-0.036900</td>\n",
       "      <td>-0.634075</td>\n",
       "      <td>0.158678</td>\n",
       "      <td>0.0</td>\n",
       "      <td>-0.368398</td>\n",
       "      <td>-0.396835</td>\n",
       "      <td>0.073134</td>\n",
       "      <td>0.305786</td>\n",
       "      <td>0.589647</td>\n",
       "    </tr>\n",
       "  </tbody>\n",
       "</table>\n",
       "<p>5 rows × 68 columns</p>\n",
       "</div>"
      ],
      "text/plain": [
       "   Flow Duration  Total Fwd Packet  Total Bwd packets  \\\n",
       "0      -0.546508         -0.063838          -0.044949   \n",
       "1      -0.546503         -0.063838          -0.044949   \n",
       "2      -0.546502         -0.063838          -0.044949   \n",
       "3      -0.546504         -0.063838          -0.044949   \n",
       "4      -0.263585          0.184194           0.071741   \n",
       "\n",
       "   Total Length of Fwd Packet  Total Length of Bwd Packet  \\\n",
       "0                   -0.034644                   -0.028574   \n",
       "1                   -0.034644                   -0.028574   \n",
       "2                   -0.034644                   -0.028574   \n",
       "3                   -0.034644                   -0.028574   \n",
       "4                   -0.014801                   -0.027116   \n",
       "\n",
       "   Fwd Packet Length Max  Fwd Packet Length Min  Fwd Packet Length Mean  \\\n",
       "0              -0.321759              -0.498852               -0.316449   \n",
       "1              -0.321759              -0.498852               -0.316449   \n",
       "2              -0.321759              -0.498852               -0.316449   \n",
       "3              -0.321759              -0.498852               -0.316449   \n",
       "4              -0.120075              -0.498852                0.179861   \n",
       "\n",
       "   Fwd Packet Length Std  Bwd Packet Length Max  ...  Bwd Packet/Bulk Avg  \\\n",
       "0              -0.379416              -0.292366  ...            -0.052228   \n",
       "1              -0.379416              -0.292366  ...            -0.052228   \n",
       "2              -0.379416              -0.292366  ...            -0.052228   \n",
       "3              -0.379416              -0.292366  ...            -0.052228   \n",
       "4              -0.247304               0.340530  ...             0.164343   \n",
       "\n",
       "   Bwd Bulk Rate Avg  Subflow Fwd Packets  Subflow Fwd Bytes  \\\n",
       "0          -0.043209            -0.634075          -0.313203   \n",
       "1          -0.043209            -0.634075          -0.313203   \n",
       "2          -0.043209            -0.634075          -0.313203   \n",
       "3          -0.043209            -0.634075          -0.313203   \n",
       "4          -0.036900            -0.634075           0.158678   \n",
       "\n",
       "   Subflow Bwd Packets  Subflow Bwd Bytes  FWD Init Win Bytes  \\\n",
       "0                  0.0          -0.413046           -0.345303   \n",
       "1                  0.0          -0.413046           -0.335704   \n",
       "2                  0.0          -0.413046           -0.329439   \n",
       "3                  0.0          -0.413046           -0.333582   \n",
       "4                  0.0          -0.368398           -0.396835   \n",
       "\n",
       "   Bwd Init Win Bytes  Fwd Act Data Pkts  Fwd Seg Size Min  \n",
       "0           -0.095141          -0.061219          0.589647  \n",
       "1           -0.095141          -0.061219          0.589647  \n",
       "2           -0.095141          -0.061219          0.589647  \n",
       "3           -0.095141          -0.061219          0.589647  \n",
       "4            0.073134           0.305786          0.589647  \n",
       "\n",
       "[5 rows x 68 columns]"
      ]
     },
     "execution_count": 31,
     "metadata": {},
     "output_type": "execute_result"
    }
   ],
   "source": [
    "scaler = StandardScaler().fit(model_samples[real_columns])\n",
    "model_samples[real_columns] = scaler.transform(model_samples[real_columns])\n",
    "model_samples[real_columns].head()"
   ]
  },
  {
   "cell_type": "code",
   "execution_count": 32,
   "metadata": {
    "execution": {
     "iopub.execute_input": "2022-06-14T11:16:48.531790Z",
     "iopub.status.busy": "2022-06-14T11:16:48.530811Z",
     "iopub.status.idle": "2022-06-14T11:16:49.221494Z",
     "shell.execute_reply": "2022-06-14T11:16:49.222037Z",
     "shell.execute_reply.started": "2022-06-14T07:22:30.212422Z"
    },
    "papermill": {
     "duration": 0.734089,
     "end_time": "2022-06-14T11:16:49.222228",
     "exception": false,
     "start_time": "2022-06-14T11:16:48.488139",
     "status": "completed"
    },
    "tags": []
   },
   "outputs": [
    {
     "name": "stdout",
     "output_type": "stream",
     "text": [
      "Series([], dtype: float64)\n"
     ]
    }
   ],
   "source": [
    "samples = samples.dropna()\n",
    "model_samples = model_samples.dropna()\n",
    "print(samples[samples.columns[samples.isna().sum()>0]].isna().sum())"
   ]
  },
  {
   "cell_type": "markdown",
   "metadata": {},
   "source": [
    "# 输出"
   ]
  },
  {
   "cell_type": "code",
   "execution_count": 33,
   "metadata": {
    "execution": {
     "iopub.execute_input": "2022-06-14T11:16:49.316646Z",
     "iopub.status.busy": "2022-06-14T11:16:49.315374Z",
     "iopub.status.idle": "2022-06-14T11:17:04.030839Z",
     "shell.execute_reply": "2022-06-14T11:17:04.030190Z",
     "shell.execute_reply.started": "2022-06-14T07:22:30.894764Z"
    },
    "papermill": {
     "duration": 14.763834,
     "end_time": "2022-06-14T11:17:04.030976",
     "exception": false,
     "start_time": "2022-06-14T11:16:49.267142",
     "status": "completed"
    },
    "tags": []
   },
   "outputs": [],
   "source": [
    "samples.to_csv('./outputs/darknet_dataset_processed.csv', index=False)"
   ]
  },
  {
   "cell_type": "code",
   "execution_count": 34,
   "metadata": {
    "execution": {
     "iopub.execute_input": "2022-06-14T11:17:04.114538Z",
     "iopub.status.busy": "2022-06-14T11:17:04.113473Z",
     "iopub.status.idle": "2022-06-14T11:17:27.480297Z",
     "shell.execute_reply": "2022-06-14T11:17:27.481234Z",
     "shell.execute_reply.started": "2022-06-14T07:22:44.72967Z"
    },
    "papermill": {
     "duration": 23.411379,
     "end_time": "2022-06-14T11:17:27.481481",
     "exception": false,
     "start_time": "2022-06-14T11:17:04.070102",
     "status": "completed"
    },
    "tags": []
   },
   "outputs": [],
   "source": [
    "model_samples.to_csv('./outputs/darknet_dataset_processed_encoded.csv', index=False)"
   ]
  }
 ],
 "metadata": {
  "hide_input": false,
  "kernelspec": {
   "display_name": "Python 3",
   "language": "python",
   "name": "python3"
  },
  "language_info": {
   "codemirror_mode": {
    "name": "ipython",
    "version": 3
   },
   "file_extension": ".py",
   "mimetype": "text/x-python",
   "name": "python",
   "nbconvert_exporter": "python",
   "pygments_lexer": "ipython3",
   "version": "3.7.4"
  },
  "papermill": {
   "default_parameters": {},
   "duration": 189.077513,
   "end_time": "2022-06-14T11:17:28.347223",
   "environment_variables": {},
   "exception": null,
   "input_path": "__notebook__.ipynb",
   "output_path": "__notebook__.ipynb",
   "parameters": {},
   "start_time": "2022-06-14T11:14:19.269710",
   "version": "2.2.2"
  },
  "toc": {
   "base_numbering": 1,
   "nav_menu": {},
   "number_sections": true,
   "sideBar": true,
   "skip_h1_title": false,
   "title_cell": "目录",
   "title_sidebar": "目录",
   "toc_cell": false,
   "toc_position": {
    "height": "calc(100% - 180px)",
    "left": "10px",
    "top": "150px",
    "width": "250px"
   },
   "toc_section_display": true,
   "toc_window_display": true
  }
 },
 "nbformat": 4,
 "nbformat_minor": 4
}
