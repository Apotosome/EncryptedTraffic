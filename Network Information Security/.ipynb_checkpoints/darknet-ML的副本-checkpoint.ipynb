{
 "cells": [
  {
   "cell_type": "markdown",
   "id": "7d62533d",
   "metadata": {
    "papermill": {
     "duration": 0.011635,
     "end_time": "2022-06-14T03:17:39.773410",
     "exception": false,
     "start_time": "2022-06-14T03:17:39.761775",
     "status": "completed"
    },
    "tags": []
   },
   "source": [
    "<center><h2><b>CIC-Darknet2020</b></h2></center>\n",
    "<center><h2><b>Machine Learning</b></h2></center>"
   ]
  },
  {
   "cell_type": "markdown",
   "id": "9a9102a9",
   "metadata": {
    "papermill": {
     "duration": 0.010123,
     "end_time": "2022-06-14T03:17:39.794192",
     "exception": false,
     "start_time": "2022-06-14T03:17:39.784069",
     "status": "completed"
    },
    "tags": []
   },
   "source": [
    "# Libraries importing and configuration 库导入和配置"
   ]
  },
  {
   "cell_type": "code",
   "execution_count": 1,
   "id": "621ea966",
   "metadata": {},
   "outputs": [],
   "source": [
    "import numpy as np\n",
    "import pandas as pd\n",
    "import tensorflow as tf\n",
    "import tensorflow.keras as keras\n",
    "import os\n",
    "import time \n",
    "import matplotlib.pyplot as plt\n",
    "import matplotlib as mpl\n",
    "import seaborn as sns\n",
    "\n",
    "from functools import partial\n",
    "\n",
    "def initialization():\n",
    "    keras.backend.clear_session()\n",
    "    np.random.seed(42)\n",
    "    tf.random.set_seed(42)"
   ]
  },
  {
   "cell_type": "code",
   "execution_count": 2,
   "id": "d6ede1b8",
   "metadata": {},
   "outputs": [],
   "source": [
    "dataset_folder = \"./\"\n",
    "strat_samples = pd.read_csv(dataset_folder + 'darknet_dataset_processed_encoded.csv')"
   ]
  },
  {
   "cell_type": "code",
   "execution_count": 3,
   "id": "d48f48e8",
   "metadata": {},
   "outputs": [
    {
     "data": {
      "text/html": [
       "<div>\n",
       "<style scoped>\n",
       "    .dataframe tbody tr th:only-of-type {\n",
       "        vertical-align: middle;\n",
       "    }\n",
       "\n",
       "    .dataframe tbody tr th {\n",
       "        vertical-align: top;\n",
       "    }\n",
       "\n",
       "    .dataframe thead th {\n",
       "        text-align: right;\n",
       "    }\n",
       "</style>\n",
       "<table border=\"1\" class=\"dataframe\">\n",
       "  <thead>\n",
       "    <tr style=\"text-align: right;\">\n",
       "      <th></th>\n",
       "      <th>Src Port</th>\n",
       "      <th>Dst Port</th>\n",
       "      <th>Protocol</th>\n",
       "      <th>Flow Duration</th>\n",
       "      <th>Total Fwd Packet</th>\n",
       "      <th>Total Bwd packets</th>\n",
       "      <th>Total Length of Fwd Packet</th>\n",
       "      <th>Total Length of Bwd Packet</th>\n",
       "      <th>Fwd Packet Length Max</th>\n",
       "      <th>Fwd Packet Length Min</th>\n",
       "      <th>...</th>\n",
       "      <th>FWD Init Win Bytes</th>\n",
       "      <th>Bwd Init Win Bytes</th>\n",
       "      <th>Fwd Act Data Pkts</th>\n",
       "      <th>Fwd Seg Size Min</th>\n",
       "      <th>Idle Mean</th>\n",
       "      <th>Idle Std</th>\n",
       "      <th>Idle Max</th>\n",
       "      <th>Idle Min</th>\n",
       "      <th>Label</th>\n",
       "      <th>Label.1</th>\n",
       "    </tr>\n",
       "  </thead>\n",
       "  <tbody>\n",
       "    <tr>\n",
       "      <th>0</th>\n",
       "      <td>0.977997</td>\n",
       "      <td>-0.796097</td>\n",
       "      <td>-0.801148</td>\n",
       "      <td>-0.546508</td>\n",
       "      <td>-0.063838</td>\n",
       "      <td>-0.044949</td>\n",
       "      <td>-0.034644</td>\n",
       "      <td>-0.028574</td>\n",
       "      <td>-0.321759</td>\n",
       "      <td>-0.498852</td>\n",
       "      <td>...</td>\n",
       "      <td>-0.345303</td>\n",
       "      <td>-0.095141</td>\n",
       "      <td>-0.061219</td>\n",
       "      <td>0.589647</td>\n",
       "      <td>-0.996011</td>\n",
       "      <td>-0.286362</td>\n",
       "      <td>-1.008314</td>\n",
       "      <td>-0.839959</td>\n",
       "      <td>Non-Tor</td>\n",
       "      <td>Audio-Streaming</td>\n",
       "    </tr>\n",
       "    <tr>\n",
       "      <th>1</th>\n",
       "      <td>0.978049</td>\n",
       "      <td>-0.796097</td>\n",
       "      <td>-0.801148</td>\n",
       "      <td>-0.546503</td>\n",
       "      <td>-0.063838</td>\n",
       "      <td>-0.044949</td>\n",
       "      <td>-0.034644</td>\n",
       "      <td>-0.028574</td>\n",
       "      <td>-0.321759</td>\n",
       "      <td>-0.498852</td>\n",
       "      <td>...</td>\n",
       "      <td>-0.335704</td>\n",
       "      <td>-0.095141</td>\n",
       "      <td>-0.061219</td>\n",
       "      <td>0.589647</td>\n",
       "      <td>-0.996011</td>\n",
       "      <td>-0.286362</td>\n",
       "      <td>-1.008314</td>\n",
       "      <td>-0.839959</td>\n",
       "      <td>Non-Tor</td>\n",
       "      <td>Audio-Streaming</td>\n",
       "    </tr>\n",
       "    <tr>\n",
       "      <th>2</th>\n",
       "      <td>0.978101</td>\n",
       "      <td>-0.796097</td>\n",
       "      <td>-0.801148</td>\n",
       "      <td>-0.546502</td>\n",
       "      <td>-0.063838</td>\n",
       "      <td>-0.044949</td>\n",
       "      <td>-0.034644</td>\n",
       "      <td>-0.028574</td>\n",
       "      <td>-0.321759</td>\n",
       "      <td>-0.498852</td>\n",
       "      <td>...</td>\n",
       "      <td>-0.329439</td>\n",
       "      <td>-0.095141</td>\n",
       "      <td>-0.061219</td>\n",
       "      <td>0.589647</td>\n",
       "      <td>-0.996011</td>\n",
       "      <td>-0.286362</td>\n",
       "      <td>-1.008314</td>\n",
       "      <td>-0.839959</td>\n",
       "      <td>Non-Tor</td>\n",
       "      <td>Audio-Streaming</td>\n",
       "    </tr>\n",
       "    <tr>\n",
       "      <th>3</th>\n",
       "      <td>0.558265</td>\n",
       "      <td>-0.796097</td>\n",
       "      <td>-0.801148</td>\n",
       "      <td>-0.546504</td>\n",
       "      <td>-0.063838</td>\n",
       "      <td>-0.044949</td>\n",
       "      <td>-0.034644</td>\n",
       "      <td>-0.028574</td>\n",
       "      <td>-0.321759</td>\n",
       "      <td>-0.498852</td>\n",
       "      <td>...</td>\n",
       "      <td>-0.333582</td>\n",
       "      <td>-0.095141</td>\n",
       "      <td>-0.061219</td>\n",
       "      <td>0.589647</td>\n",
       "      <td>-0.996011</td>\n",
       "      <td>-0.286362</td>\n",
       "      <td>-1.008314</td>\n",
       "      <td>-0.839959</td>\n",
       "      <td>Non-Tor</td>\n",
       "      <td>Audio-Streaming</td>\n",
       "    </tr>\n",
       "    <tr>\n",
       "      <th>4</th>\n",
       "      <td>-0.196928</td>\n",
       "      <td>0.053620</td>\n",
       "      <td>-0.801148</td>\n",
       "      <td>-0.263585</td>\n",
       "      <td>0.184194</td>\n",
       "      <td>0.071741</td>\n",
       "      <td>-0.014801</td>\n",
       "      <td>-0.027116</td>\n",
       "      <td>-0.120075</td>\n",
       "      <td>-0.498852</td>\n",
       "      <td>...</td>\n",
       "      <td>-0.396835</td>\n",
       "      <td>0.073134</td>\n",
       "      <td>0.305786</td>\n",
       "      <td>0.589647</td>\n",
       "      <td>1.040966</td>\n",
       "      <td>-0.286362</td>\n",
       "      <td>0.975364</td>\n",
       "      <td>1.174151</td>\n",
       "      <td>Non-Tor</td>\n",
       "      <td>Audio-Streaming</td>\n",
       "    </tr>\n",
       "  </tbody>\n",
       "</table>\n",
       "<p>5 rows × 66 columns</p>\n",
       "</div>"
      ],
      "text/plain": [
       "   Src Port  Dst Port  Protocol  Flow Duration  Total Fwd Packet  \\\n",
       "0  0.977997 -0.796097 -0.801148      -0.546508         -0.063838   \n",
       "1  0.978049 -0.796097 -0.801148      -0.546503         -0.063838   \n",
       "2  0.978101 -0.796097 -0.801148      -0.546502         -0.063838   \n",
       "3  0.558265 -0.796097 -0.801148      -0.546504         -0.063838   \n",
       "4 -0.196928  0.053620 -0.801148      -0.263585          0.184194   \n",
       "\n",
       "   Total Bwd packets  Total Length of Fwd Packet  Total Length of Bwd Packet  \\\n",
       "0          -0.044949                   -0.034644                   -0.028574   \n",
       "1          -0.044949                   -0.034644                   -0.028574   \n",
       "2          -0.044949                   -0.034644                   -0.028574   \n",
       "3          -0.044949                   -0.034644                   -0.028574   \n",
       "4           0.071741                   -0.014801                   -0.027116   \n",
       "\n",
       "   Fwd Packet Length Max  Fwd Packet Length Min  ...  FWD Init Win Bytes  \\\n",
       "0              -0.321759              -0.498852  ...           -0.345303   \n",
       "1              -0.321759              -0.498852  ...           -0.335704   \n",
       "2              -0.321759              -0.498852  ...           -0.329439   \n",
       "3              -0.321759              -0.498852  ...           -0.333582   \n",
       "4              -0.120075              -0.498852  ...           -0.396835   \n",
       "\n",
       "   Bwd Init Win Bytes  Fwd Act Data Pkts  Fwd Seg Size Min  Idle Mean  \\\n",
       "0           -0.095141          -0.061219          0.589647  -0.996011   \n",
       "1           -0.095141          -0.061219          0.589647  -0.996011   \n",
       "2           -0.095141          -0.061219          0.589647  -0.996011   \n",
       "3           -0.095141          -0.061219          0.589647  -0.996011   \n",
       "4            0.073134           0.305786          0.589647   1.040966   \n",
       "\n",
       "   Idle Std  Idle Max  Idle Min    Label          Label.1  \n",
       "0 -0.286362 -1.008314 -0.839959  Non-Tor  Audio-Streaming  \n",
       "1 -0.286362 -1.008314 -0.839959  Non-Tor  Audio-Streaming  \n",
       "2 -0.286362 -1.008314 -0.839959  Non-Tor  Audio-Streaming  \n",
       "3 -0.286362 -1.008314 -0.839959  Non-Tor  Audio-Streaming  \n",
       "4 -0.286362  0.975364  1.174151  Non-Tor  Audio-Streaming  \n",
       "\n",
       "[5 rows x 66 columns]"
      ]
     },
     "execution_count": 3,
     "metadata": {},
     "output_type": "execute_result"
    }
   ],
   "source": [
    "strat_samples.head()"
   ]
  },
  {
   "cell_type": "markdown",
   "id": "5bf47e4f",
   "metadata": {},
   "source": [
    "# 数据准备"
   ]
  },
  {
   "cell_type": "markdown",
   "id": "ffabf155",
   "metadata": {},
   "source": [
    "- 分割数据集-纯随机抽样 Random Sampling"
   ]
  },
  {
   "cell_type": "markdown",
   "id": "6914ecb1",
   "metadata": {},
   "source": [
    "利用设置随机数种子生成相同的随机索引 \n",
    "\n",
    "抽取数据集中 80% 的数据作为训练集，剩余 20% 的数据作为测试集。"
   ]
  },
  {
   "cell_type": "code",
   "execution_count": 4,
   "id": "28c412c9",
   "metadata": {},
   "outputs": [],
   "source": [
    "initialization()"
   ]
  },
  {
   "cell_type": "code",
   "execution_count": 5,
   "id": "bb90ce12",
   "metadata": {},
   "outputs": [
    {
     "data": {
      "text/plain": [
       "(113184, 28297)"
      ]
     },
     "execution_count": 5,
     "metadata": {},
     "output_type": "execute_result"
    }
   ],
   "source": [
    "from sklearn.model_selection import train_test_split\n",
    "\n",
    "strat_train_set, strat_test_set = train_test_split(strat_samples,\n",
    "                                                   test_size=0.2,\n",
    "                                                   random_state=42)\n",
    "len(strat_train_set), len(strat_test_set)"
   ]
  },
  {
   "cell_type": "code",
   "execution_count": 6,
   "id": "ed388bff",
   "metadata": {},
   "outputs": [],
   "source": [
    "# samples_id = strat_samples.reset_index()  # 添加index列"
   ]
  },
  {
   "cell_type": "code",
   "execution_count": 7,
   "id": "c3332707",
   "metadata": {},
   "outputs": [],
   "source": [
    "# from zlib import crc32\n",
    "\n",
    "# def test_set_check(identifier, test_ratio):  # 哈希运算\n",
    "#     return crc32(np.int64(identifier)) & 0xffffffff < test_ratio * 2**32\n",
    "\n",
    "# def split_train_test_by_id(data, ratio, col):\n",
    "#     ids = data[col]\n",
    "#     TEST_SET = ids.apply(lambda id: test_set_check(id, ratio))\n",
    "#     return data.loc[~TEST_SET], data.loc[TEST_SET]  # ~ 取反"
   ]
  },
  {
   "cell_type": "code",
   "execution_count": 8,
   "id": "0696469e",
   "metadata": {},
   "outputs": [],
   "source": [
    "# strat_train_set, strat_test_set = split_train_test_by_id(\n",
    "#     samples_id, 0.2, \"index\")\n",
    "# strat_train_set = strat_train_set.drop(\"index\", axis=1)\n",
    "# strat_test_set = strat_test_set.drop(\"index\", axis=1)\n",
    "# len(strat_train_set), len(strat_test_set)"
   ]
  },
  {
   "cell_type": "code",
   "execution_count": 9,
   "id": "028e8dad",
   "metadata": {},
   "outputs": [
    {
     "data": {
      "text/html": [
       "<div>\n",
       "<style scoped>\n",
       "    .dataframe tbody tr th:only-of-type {\n",
       "        vertical-align: middle;\n",
       "    }\n",
       "\n",
       "    .dataframe tbody tr th {\n",
       "        vertical-align: top;\n",
       "    }\n",
       "\n",
       "    .dataframe thead th {\n",
       "        text-align: right;\n",
       "    }\n",
       "</style>\n",
       "<table border=\"1\" class=\"dataframe\">\n",
       "  <thead>\n",
       "    <tr style=\"text-align: right;\">\n",
       "      <th></th>\n",
       "      <th>Src Port</th>\n",
       "      <th>Dst Port</th>\n",
       "      <th>Protocol</th>\n",
       "      <th>Flow Duration</th>\n",
       "      <th>Total Fwd Packet</th>\n",
       "      <th>Total Bwd packets</th>\n",
       "      <th>Total Length of Fwd Packet</th>\n",
       "      <th>Total Length of Bwd Packet</th>\n",
       "      <th>Fwd Packet Length Max</th>\n",
       "      <th>Fwd Packet Length Min</th>\n",
       "      <th>...</th>\n",
       "      <th>FWD Init Win Bytes</th>\n",
       "      <th>Bwd Init Win Bytes</th>\n",
       "      <th>Fwd Act Data Pkts</th>\n",
       "      <th>Fwd Seg Size Min</th>\n",
       "      <th>Idle Mean</th>\n",
       "      <th>Idle Std</th>\n",
       "      <th>Idle Max</th>\n",
       "      <th>Idle Min</th>\n",
       "      <th>Label</th>\n",
       "      <th>Label.1</th>\n",
       "    </tr>\n",
       "  </thead>\n",
       "  <tbody>\n",
       "    <tr>\n",
       "      <th>3697</th>\n",
       "      <td>0.394274</td>\n",
       "      <td>-0.813666</td>\n",
       "      <td>1.223843</td>\n",
       "      <td>-0.203001</td>\n",
       "      <td>-0.062577</td>\n",
       "      <td>-0.044072</td>\n",
       "      <td>-0.034589</td>\n",
       "      <td>-0.028516</td>\n",
       "      <td>-0.252478</td>\n",
       "      <td>0.938107</td>\n",
       "      <td>...</td>\n",
       "      <td>-0.536477</td>\n",
       "      <td>-0.233542</td>\n",
       "      <td>-0.059324</td>\n",
       "      <td>-1.097763</td>\n",
       "      <td>1.067278</td>\n",
       "      <td>-0.286362</td>\n",
       "      <td>1.000987</td>\n",
       "      <td>1.200168</td>\n",
       "      <td>Non-Tor</td>\n",
       "      <td>Browsing</td>\n",
       "    </tr>\n",
       "    <tr>\n",
       "      <th>35004</th>\n",
       "      <td>-0.252638</td>\n",
       "      <td>-0.812450</td>\n",
       "      <td>-0.801148</td>\n",
       "      <td>1.835147</td>\n",
       "      <td>-0.061736</td>\n",
       "      <td>-0.043780</td>\n",
       "      <td>-0.034504</td>\n",
       "      <td>-0.028302</td>\n",
       "      <td>0.380286</td>\n",
       "      <td>-0.498852</td>\n",
       "      <td>...</td>\n",
       "      <td>0.938758</td>\n",
       "      <td>-0.103998</td>\n",
       "      <td>-0.060588</td>\n",
       "      <td>0.589647</td>\n",
       "      <td>1.041319</td>\n",
       "      <td>-0.286362</td>\n",
       "      <td>0.975708</td>\n",
       "      <td>1.174501</td>\n",
       "      <td>Non-Tor</td>\n",
       "      <td>File-Transfer</td>\n",
       "    </tr>\n",
       "    <tr>\n",
       "      <th>56412</th>\n",
       "      <td>0.007916</td>\n",
       "      <td>0.438926</td>\n",
       "      <td>-0.801148</td>\n",
       "      <td>-0.509120</td>\n",
       "      <td>-0.062997</td>\n",
       "      <td>-0.044365</td>\n",
       "      <td>-0.034623</td>\n",
       "      <td>-0.028574</td>\n",
       "      <td>-0.217068</td>\n",
       "      <td>-0.498852</td>\n",
       "      <td>...</td>\n",
       "      <td>0.938758</td>\n",
       "      <td>-0.112854</td>\n",
       "      <td>-0.060588</td>\n",
       "      <td>0.589647</td>\n",
       "      <td>1.067265</td>\n",
       "      <td>-0.286362</td>\n",
       "      <td>1.000975</td>\n",
       "      <td>1.200155</td>\n",
       "      <td>Non-Tor</td>\n",
       "      <td>P2P</td>\n",
       "    </tr>\n",
       "    <tr>\n",
       "      <th>84781</th>\n",
       "      <td>0.080626</td>\n",
       "      <td>1.746388</td>\n",
       "      <td>-0.801148</td>\n",
       "      <td>0.461146</td>\n",
       "      <td>-0.055010</td>\n",
       "      <td>-0.039100</td>\n",
       "      <td>-0.034222</td>\n",
       "      <td>-0.025290</td>\n",
       "      <td>1.340980</td>\n",
       "      <td>-0.498852</td>\n",
       "      <td>...</td>\n",
       "      <td>-0.418458</td>\n",
       "      <td>-0.043456</td>\n",
       "      <td>-0.058061</td>\n",
       "      <td>0.589647</td>\n",
       "      <td>1.067178</td>\n",
       "      <td>-0.286362</td>\n",
       "      <td>1.000890</td>\n",
       "      <td>1.200069</td>\n",
       "      <td>Non-Tor</td>\n",
       "      <td>P2P</td>\n",
       "    </tr>\n",
       "    <tr>\n",
       "      <th>22566</th>\n",
       "      <td>0.509041</td>\n",
       "      <td>-0.813666</td>\n",
       "      <td>1.223843</td>\n",
       "      <td>-0.534723</td>\n",
       "      <td>-0.063838</td>\n",
       "      <td>-0.044949</td>\n",
       "      <td>-0.034634</td>\n",
       "      <td>-0.028563</td>\n",
       "      <td>-0.267874</td>\n",
       "      <td>0.618783</td>\n",
       "      <td>...</td>\n",
       "      <td>-0.536477</td>\n",
       "      <td>-0.233542</td>\n",
       "      <td>-0.061219</td>\n",
       "      <td>-1.097763</td>\n",
       "      <td>-0.996011</td>\n",
       "      <td>-0.286362</td>\n",
       "      <td>-1.008314</td>\n",
       "      <td>-0.839959</td>\n",
       "      <td>Non-Tor</td>\n",
       "      <td>Browsing</td>\n",
       "    </tr>\n",
       "  </tbody>\n",
       "</table>\n",
       "<p>5 rows × 66 columns</p>\n",
       "</div>"
      ],
      "text/plain": [
       "       Src Port  Dst Port  Protocol  Flow Duration  Total Fwd Packet  \\\n",
       "3697   0.394274 -0.813666  1.223843      -0.203001         -0.062577   \n",
       "35004 -0.252638 -0.812450 -0.801148       1.835147         -0.061736   \n",
       "56412  0.007916  0.438926 -0.801148      -0.509120         -0.062997   \n",
       "84781  0.080626  1.746388 -0.801148       0.461146         -0.055010   \n",
       "22566  0.509041 -0.813666  1.223843      -0.534723         -0.063838   \n",
       "\n",
       "       Total Bwd packets  Total Length of Fwd Packet  \\\n",
       "3697           -0.044072                   -0.034589   \n",
       "35004          -0.043780                   -0.034504   \n",
       "56412          -0.044365                   -0.034623   \n",
       "84781          -0.039100                   -0.034222   \n",
       "22566          -0.044949                   -0.034634   \n",
       "\n",
       "       Total Length of Bwd Packet  Fwd Packet Length Max  \\\n",
       "3697                    -0.028516              -0.252478   \n",
       "35004                   -0.028302               0.380286   \n",
       "56412                   -0.028574              -0.217068   \n",
       "84781                   -0.025290               1.340980   \n",
       "22566                   -0.028563              -0.267874   \n",
       "\n",
       "       Fwd Packet Length Min  ...  FWD Init Win Bytes  Bwd Init Win Bytes  \\\n",
       "3697                0.938107  ...           -0.536477           -0.233542   \n",
       "35004              -0.498852  ...            0.938758           -0.103998   \n",
       "56412              -0.498852  ...            0.938758           -0.112854   \n",
       "84781              -0.498852  ...           -0.418458           -0.043456   \n",
       "22566               0.618783  ...           -0.536477           -0.233542   \n",
       "\n",
       "       Fwd Act Data Pkts  Fwd Seg Size Min  Idle Mean  Idle Std  Idle Max  \\\n",
       "3697           -0.059324         -1.097763   1.067278 -0.286362  1.000987   \n",
       "35004          -0.060588          0.589647   1.041319 -0.286362  0.975708   \n",
       "56412          -0.060588          0.589647   1.067265 -0.286362  1.000975   \n",
       "84781          -0.058061          0.589647   1.067178 -0.286362  1.000890   \n",
       "22566          -0.061219         -1.097763  -0.996011 -0.286362 -1.008314   \n",
       "\n",
       "       Idle Min    Label        Label.1  \n",
       "3697   1.200168  Non-Tor       Browsing  \n",
       "35004  1.174501  Non-Tor  File-Transfer  \n",
       "56412  1.200155  Non-Tor            P2P  \n",
       "84781  1.200069  Non-Tor            P2P  \n",
       "22566 -0.839959  Non-Tor       Browsing  \n",
       "\n",
       "[5 rows x 66 columns]"
      ]
     },
     "execution_count": 9,
     "metadata": {},
     "output_type": "execute_result"
    }
   ],
   "source": [
    "strat_train_set.head()"
   ]
  },
  {
   "cell_type": "markdown",
   "id": "6a758c34",
   "metadata": {},
   "source": [
    "- 创建副本，而不损害训练集。同时我们需要将预测器和标签分开！"
   ]
  },
  {
   "cell_type": "code",
   "execution_count": 10,
   "id": "4d0235f1",
   "metadata": {},
   "outputs": [],
   "source": [
    "test_set = strat_test_set.drop(\"Label\", axis=1)\n",
    "test_set_label = strat_test_set[\"Label\"].copy()\n",
    "\n",
    "test_set = test_set.drop(\"Label.1\", axis=1)\n",
    "test_set_label_1 = strat_test_set[\"Label.1\"].copy()"
   ]
  },
  {
   "cell_type": "code",
   "execution_count": 11,
   "id": "f418256b",
   "metadata": {},
   "outputs": [],
   "source": [
    "train_set = strat_train_set.drop(\"Label\", axis=1)\n",
    "train_set_label = strat_train_set[\"Label\"].copy()\n",
    "\n",
    "train_set = train_set.drop(\"Label.1\", axis=1)\n",
    "train_set_label_1 = strat_train_set[\"Label.1\"].copy()"
   ]
  },
  {
   "cell_type": "code",
   "execution_count": 12,
   "id": "681daedf",
   "metadata": {},
   "outputs": [],
   "source": [
    "# samples = strat_samples.drop(\"Label\", axis=1)\n",
    "# samples_label = strat_samples[\"Label\"].copy()\n",
    "\n",
    "# samples = samples.drop(\"Label.1\", axis=1)\n",
    "# samples_label_1 = strat_samples[\"Label.1\"].copy()"
   ]
  },
  {
   "cell_type": "code",
   "execution_count": 13,
   "id": "ebccff93",
   "metadata": {},
   "outputs": [
    {
     "data": {
      "text/plain": [
       "3697     Non-Tor\n",
       "35004    Non-Tor\n",
       "56412    Non-Tor\n",
       "84781    Non-Tor\n",
       "22566    Non-Tor\n",
       "Name: Label, dtype: object"
      ]
     },
     "execution_count": 13,
     "metadata": {},
     "output_type": "execute_result"
    }
   ],
   "source": [
    "train_set_label.head()\n",
    "# samples_label.head()"
   ]
  },
  {
   "cell_type": "code",
   "execution_count": 14,
   "id": "49cea039",
   "metadata": {
    "scrolled": false
   },
   "outputs": [
    {
     "data": {
      "text/plain": [
       "3697          Browsing\n",
       "35004    File-Transfer\n",
       "56412              P2P\n",
       "84781              P2P\n",
       "22566         Browsing\n",
       "Name: Label.1, dtype: object"
      ]
     },
     "execution_count": 14,
     "metadata": {},
     "output_type": "execute_result"
    }
   ],
   "source": [
    "train_set_label_1.head()\n",
    "# samples_label_1.head()"
   ]
  },
  {
   "cell_type": "code",
   "execution_count": 15,
   "id": "9a198516",
   "metadata": {},
   "outputs": [],
   "source": [
    "from sklearn.preprocessing import LabelEncoder"
   ]
  },
  {
   "cell_type": "code",
   "execution_count": 16,
   "id": "fb007340",
   "metadata": {},
   "outputs": [],
   "source": [
    "label = [\n",
    "    'Browsing', 'File-Transfer', 'P2P', 'Email', 'Audio-Streaming',\n",
    "    'Video-Streaming', 'VOIP', 'Chat'\n",
    "]"
   ]
  },
  {
   "cell_type": "code",
   "execution_count": 17,
   "id": "049ed9d1",
   "metadata": {},
   "outputs": [],
   "source": [
    "le = LabelEncoder()\n",
    "le.fit(label)\n",
    "train_set_label_1_num = le.transform(train_set_label_1)\n",
    "test_set_label_1_num = le.transform(test_set_label_1)"
   ]
  },
  {
   "cell_type": "code",
   "execution_count": 18,
   "id": "f6fa2712",
   "metadata": {},
   "outputs": [
    {
     "data": {
      "text/html": [
       "<div>\n",
       "<style scoped>\n",
       "    .dataframe tbody tr th:only-of-type {\n",
       "        vertical-align: middle;\n",
       "    }\n",
       "\n",
       "    .dataframe tbody tr th {\n",
       "        vertical-align: top;\n",
       "    }\n",
       "\n",
       "    .dataframe thead th {\n",
       "        text-align: right;\n",
       "    }\n",
       "</style>\n",
       "<table border=\"1\" class=\"dataframe\">\n",
       "  <thead>\n",
       "    <tr style=\"text-align: right;\">\n",
       "      <th></th>\n",
       "      <th>Src Port</th>\n",
       "      <th>Dst Port</th>\n",
       "      <th>Protocol</th>\n",
       "      <th>Flow Duration</th>\n",
       "      <th>Total Fwd Packet</th>\n",
       "      <th>Total Bwd packets</th>\n",
       "      <th>Total Length of Fwd Packet</th>\n",
       "      <th>Total Length of Bwd Packet</th>\n",
       "      <th>Fwd Packet Length Max</th>\n",
       "      <th>Fwd Packet Length Min</th>\n",
       "      <th>...</th>\n",
       "      <th>Subflow Fwd Bytes</th>\n",
       "      <th>Subflow Bwd Bytes</th>\n",
       "      <th>FWD Init Win Bytes</th>\n",
       "      <th>Bwd Init Win Bytes</th>\n",
       "      <th>Fwd Act Data Pkts</th>\n",
       "      <th>Fwd Seg Size Min</th>\n",
       "      <th>Idle Mean</th>\n",
       "      <th>Idle Std</th>\n",
       "      <th>Idle Max</th>\n",
       "      <th>Idle Min</th>\n",
       "    </tr>\n",
       "  </thead>\n",
       "  <tbody>\n",
       "    <tr>\n",
       "      <th>3697</th>\n",
       "      <td>0.394274</td>\n",
       "      <td>-0.813666</td>\n",
       "      <td>1.223843</td>\n",
       "      <td>-0.203001</td>\n",
       "      <td>-0.062577</td>\n",
       "      <td>-0.044072</td>\n",
       "      <td>-0.034589</td>\n",
       "      <td>-0.028516</td>\n",
       "      <td>-0.252478</td>\n",
       "      <td>0.938107</td>\n",
       "      <td>...</td>\n",
       "      <td>-0.153489</td>\n",
       "      <td>-0.167485</td>\n",
       "      <td>-0.536477</td>\n",
       "      <td>-0.233542</td>\n",
       "      <td>-0.059324</td>\n",
       "      <td>-1.097763</td>\n",
       "      <td>1.067278</td>\n",
       "      <td>-0.286362</td>\n",
       "      <td>1.000987</td>\n",
       "      <td>1.200168</td>\n",
       "    </tr>\n",
       "    <tr>\n",
       "      <th>35004</th>\n",
       "      <td>-0.252638</td>\n",
       "      <td>-0.812450</td>\n",
       "      <td>-0.801148</td>\n",
       "      <td>1.835147</td>\n",
       "      <td>-0.061736</td>\n",
       "      <td>-0.043780</td>\n",
       "      <td>-0.034504</td>\n",
       "      <td>-0.028302</td>\n",
       "      <td>0.380286</td>\n",
       "      <td>-0.498852</td>\n",
       "      <td>...</td>\n",
       "      <td>-0.015555</td>\n",
       "      <td>0.427812</td>\n",
       "      <td>0.938758</td>\n",
       "      <td>-0.103998</td>\n",
       "      <td>-0.060588</td>\n",
       "      <td>0.589647</td>\n",
       "      <td>1.041319</td>\n",
       "      <td>-0.286362</td>\n",
       "      <td>0.975708</td>\n",
       "      <td>1.174501</td>\n",
       "    </tr>\n",
       "    <tr>\n",
       "      <th>56412</th>\n",
       "      <td>0.007916</td>\n",
       "      <td>0.438926</td>\n",
       "      <td>-0.801148</td>\n",
       "      <td>-0.509120</td>\n",
       "      <td>-0.062997</td>\n",
       "      <td>-0.044365</td>\n",
       "      <td>-0.034623</td>\n",
       "      <td>-0.028574</td>\n",
       "      <td>-0.217068</td>\n",
       "      <td>-0.498852</td>\n",
       "      <td>...</td>\n",
       "      <td>-0.233346</td>\n",
       "      <td>-0.413046</td>\n",
       "      <td>0.938758</td>\n",
       "      <td>-0.112854</td>\n",
       "      <td>-0.060588</td>\n",
       "      <td>0.589647</td>\n",
       "      <td>1.067265</td>\n",
       "      <td>-0.286362</td>\n",
       "      <td>1.000975</td>\n",
       "      <td>1.200155</td>\n",
       "    </tr>\n",
       "    <tr>\n",
       "      <th>84781</th>\n",
       "      <td>0.080626</td>\n",
       "      <td>1.746388</td>\n",
       "      <td>-0.801148</td>\n",
       "      <td>0.461146</td>\n",
       "      <td>-0.055010</td>\n",
       "      <td>-0.039100</td>\n",
       "      <td>-0.034222</td>\n",
       "      <td>-0.025290</td>\n",
       "      <td>1.340980</td>\n",
       "      <td>-0.498852</td>\n",
       "      <td>...</td>\n",
       "      <td>-0.088152</td>\n",
       "      <td>2.176500</td>\n",
       "      <td>-0.418458</td>\n",
       "      <td>-0.043456</td>\n",
       "      <td>-0.058061</td>\n",
       "      <td>0.589647</td>\n",
       "      <td>1.067178</td>\n",
       "      <td>-0.286362</td>\n",
       "      <td>1.000890</td>\n",
       "      <td>1.200069</td>\n",
       "    </tr>\n",
       "    <tr>\n",
       "      <th>22566</th>\n",
       "      <td>0.509041</td>\n",
       "      <td>-0.813666</td>\n",
       "      <td>1.223843</td>\n",
       "      <td>-0.534723</td>\n",
       "      <td>-0.063838</td>\n",
       "      <td>-0.044949</td>\n",
       "      <td>-0.034634</td>\n",
       "      <td>-0.028563</td>\n",
       "      <td>-0.267874</td>\n",
       "      <td>0.618783</td>\n",
       "      <td>...</td>\n",
       "      <td>-0.189788</td>\n",
       "      <td>-0.227015</td>\n",
       "      <td>-0.536477</td>\n",
       "      <td>-0.233542</td>\n",
       "      <td>-0.061219</td>\n",
       "      <td>-1.097763</td>\n",
       "      <td>-0.996011</td>\n",
       "      <td>-0.286362</td>\n",
       "      <td>-1.008314</td>\n",
       "      <td>-0.839959</td>\n",
       "    </tr>\n",
       "  </tbody>\n",
       "</table>\n",
       "<p>5 rows × 64 columns</p>\n",
       "</div>"
      ],
      "text/plain": [
       "       Src Port  Dst Port  Protocol  Flow Duration  Total Fwd Packet  \\\n",
       "3697   0.394274 -0.813666  1.223843      -0.203001         -0.062577   \n",
       "35004 -0.252638 -0.812450 -0.801148       1.835147         -0.061736   \n",
       "56412  0.007916  0.438926 -0.801148      -0.509120         -0.062997   \n",
       "84781  0.080626  1.746388 -0.801148       0.461146         -0.055010   \n",
       "22566  0.509041 -0.813666  1.223843      -0.534723         -0.063838   \n",
       "\n",
       "       Total Bwd packets  Total Length of Fwd Packet  \\\n",
       "3697           -0.044072                   -0.034589   \n",
       "35004          -0.043780                   -0.034504   \n",
       "56412          -0.044365                   -0.034623   \n",
       "84781          -0.039100                   -0.034222   \n",
       "22566          -0.044949                   -0.034634   \n",
       "\n",
       "       Total Length of Bwd Packet  Fwd Packet Length Max  \\\n",
       "3697                    -0.028516              -0.252478   \n",
       "35004                   -0.028302               0.380286   \n",
       "56412                   -0.028574              -0.217068   \n",
       "84781                   -0.025290               1.340980   \n",
       "22566                   -0.028563              -0.267874   \n",
       "\n",
       "       Fwd Packet Length Min  ...  Subflow Fwd Bytes  Subflow Bwd Bytes  \\\n",
       "3697                0.938107  ...          -0.153489          -0.167485   \n",
       "35004              -0.498852  ...          -0.015555           0.427812   \n",
       "56412              -0.498852  ...          -0.233346          -0.413046   \n",
       "84781              -0.498852  ...          -0.088152           2.176500   \n",
       "22566               0.618783  ...          -0.189788          -0.227015   \n",
       "\n",
       "       FWD Init Win Bytes  Bwd Init Win Bytes  Fwd Act Data Pkts  \\\n",
       "3697            -0.536477           -0.233542          -0.059324   \n",
       "35004            0.938758           -0.103998          -0.060588   \n",
       "56412            0.938758           -0.112854          -0.060588   \n",
       "84781           -0.418458           -0.043456          -0.058061   \n",
       "22566           -0.536477           -0.233542          -0.061219   \n",
       "\n",
       "       Fwd Seg Size Min  Idle Mean  Idle Std  Idle Max  Idle Min  \n",
       "3697          -1.097763   1.067278 -0.286362  1.000987  1.200168  \n",
       "35004          0.589647   1.041319 -0.286362  0.975708  1.174501  \n",
       "56412          0.589647   1.067265 -0.286362  1.000975  1.200155  \n",
       "84781          0.589647   1.067178 -0.286362  1.000890  1.200069  \n",
       "22566         -1.097763  -0.996011 -0.286362 -1.008314 -0.839959  \n",
       "\n",
       "[5 rows x 64 columns]"
      ]
     },
     "execution_count": 18,
     "metadata": {},
     "output_type": "execute_result"
    }
   ],
   "source": [
    "train_set.head()\n",
    "# samples.head()"
   ]
  },
  {
   "cell_type": "markdown",
   "id": "ce9b6f1e",
   "metadata": {},
   "source": [
    "- 维度转换\n",
    "\n",
    "将实验数据标签取出后得到 144 维的一维数据，之后将其转换成 12×12的二维数据"
   ]
  },
  {
   "cell_type": "code",
   "execution_count": 19,
   "id": "374a60ca",
   "metadata": {},
   "outputs": [],
   "source": [
    "train_set = train_set.to_numpy().astype(np.float64)\n",
    "test_set = test_set.to_numpy().astype(np.float64)"
   ]
  },
  {
   "cell_type": "code",
   "execution_count": 20,
   "id": "2e3830a5",
   "metadata": {
    "scrolled": true
   },
   "outputs": [],
   "source": [
    "# np.shape([np.repeat(np.array_split(train_set[0],12), 6) for _ in range(6)])"
   ]
  },
  {
   "cell_type": "code",
   "execution_count": 21,
   "id": "7728dfc9",
   "metadata": {
    "scrolled": true
   },
   "outputs": [],
   "source": [
    "# np.shape(np.hstack([np.array_split(train_set[0],12) for _ in range(2)]))"
   ]
  },
  {
   "cell_type": "code",
   "execution_count": 22,
   "id": "48356002",
   "metadata": {},
   "outputs": [],
   "source": [
    "# train_set_res = np.hstack([np.repeat(np.array_split(train_set[0],12), 6) for _ in range(6)])\n",
    "# np.shape(train_set_res)"
   ]
  },
  {
   "cell_type": "code",
   "execution_count": 23,
   "id": "67483111",
   "metadata": {},
   "outputs": [],
   "source": [
    "# train_set_res = train_set_res.reshape((72,72))"
   ]
  },
  {
   "cell_type": "code",
   "execution_count": 24,
   "id": "c105582c",
   "metadata": {
    "scrolled": true
   },
   "outputs": [],
   "source": [
    "# plt.imshow(train_set_res) \n",
    "# plt.show()"
   ]
  },
  {
   "cell_type": "code",
   "execution_count": 25,
   "id": "90c5fabb",
   "metadata": {},
   "outputs": [],
   "source": [
    "# samples = samples.to_numpy().astype(np.float64)\n",
    "# samples_res = np.hstack([np.repeat(np.array_split(samples[0],8), 9) for _ in range(9)])\n",
    "# samples_res = samples_res.reshape((72,72))"
   ]
  },
  {
   "cell_type": "code",
   "execution_count": 26,
   "id": "705141f0",
   "metadata": {},
   "outputs": [],
   "source": [
    "# plt.imshow(samples_res) \n",
    "# plt.show()"
   ]
  },
  {
   "cell_type": "code",
   "execution_count": 27,
   "id": "22c40fa5",
   "metadata": {},
   "outputs": [],
   "source": [
    "# train_set_res_blur = np.expand_dims(train_set_res, 2)\n",
    "# train_set_res_blur =  np.repeat(train_set_res_blur, 3, 2)"
   ]
  },
  {
   "cell_type": "code",
   "execution_count": 28,
   "id": "892d78c1",
   "metadata": {},
   "outputs": [],
   "source": [
    "# train_set_res_blur.shape"
   ]
  },
  {
   "cell_type": "code",
   "execution_count": 29,
   "id": "3f261838",
   "metadata": {},
   "outputs": [],
   "source": [
    "# samples_res_blur = np.expand_dims(samples_res, 2)\n",
    "# samples_res_blur = np.repeat(samples_res_blur, 3, 2)"
   ]
  },
  {
   "cell_type": "code",
   "execution_count": 30,
   "id": "f139cf56",
   "metadata": {},
   "outputs": [],
   "source": [
    "# samples_res_blur.shape"
   ]
  },
  {
   "cell_type": "code",
   "execution_count": 31,
   "id": "ded7a3a6",
   "metadata": {},
   "outputs": [],
   "source": [
    "# samples"
   ]
  },
  {
   "cell_type": "code",
   "execution_count": 32,
   "id": "172124d3",
   "metadata": {},
   "outputs": [],
   "source": [
    "samples_res = []\n",
    "test_samples_res = []"
   ]
  },
  {
   "cell_type": "code",
   "execution_count": 33,
   "id": "93deeb60",
   "metadata": {},
   "outputs": [],
   "source": [
    "# for i in range(100):\n",
    "#     _samples = np.hstack([np.repeat(np.array_split(samples[i],8), 9) for _ in range(9)]).reshape((72,72))\n",
    "#     samples_res_blur = np.repeat(np.expand_dims(_samples, 2), 3, 2)\n",
    "#     samples_res.append(samples_res_blur)\n",
    "\n",
    "for i in range(len(train_set)):\n",
    "    _samples = np.hstack([np.repeat(np.array_split(train_set[i],8), 9) for _ in range(9)]).reshape((72,72))\n",
    "    samples_res_blur = np.repeat(np.expand_dims(_samples, 2), 3, 2)\n",
    "    samples_res.append(samples_res_blur)    "
   ]
  },
  {
   "cell_type": "code",
   "execution_count": 34,
   "id": "e26679d6",
   "metadata": {},
   "outputs": [],
   "source": [
    "for i in range(len(test_set)):\n",
    "    _samples = np.hstack([np.repeat(np.array_split(test_set[i],8), 9) for _ in range(9)]).reshape((72,72))\n",
    "    samples_res_blur = np.repeat(np.expand_dims(_samples, 2), 3, 2)\n",
    "    test_samples_res.append(samples_res_blur)  "
   ]
  },
  {
   "cell_type": "code",
   "execution_count": 35,
   "id": "b2d83209",
   "metadata": {
    "scrolled": false
   },
   "outputs": [
    {
     "data": {
      "text/plain": [
       "(113184, 72, 72, 3)"
      ]
     },
     "execution_count": 35,
     "metadata": {},
     "output_type": "execute_result"
    }
   ],
   "source": [
    "np.shape(samples_res)"
   ]
  },
  {
   "cell_type": "code",
   "execution_count": 36,
   "id": "7e63c060",
   "metadata": {},
   "outputs": [
    {
     "data": {
      "text/plain": [
       "(28297, 72, 72, 3)"
      ]
     },
     "execution_count": 36,
     "metadata": {},
     "output_type": "execute_result"
    }
   ],
   "source": [
    "np.shape(test_samples_res)"
   ]
  },
  {
   "cell_type": "code",
   "execution_count": 39,
   "id": "407fe040",
   "metadata": {},
   "outputs": [
    {
     "data": {
      "text/plain": [
       "<TensorSliceDataset shapes: ((72, 72, 3), ()), types: (tf.float64, tf.int64)>"
      ]
     },
     "execution_count": 39,
     "metadata": {},
     "output_type": "execute_result"
    }
   ],
   "source": [
    "test_dataset = tf.data.Dataset.from_tensor_slices((test_samples_res, test_set_label_1_num))\n",
    "test_dataset"
   ]
  },
  {
   "cell_type": "code",
   "execution_count": 41,
   "id": "4b893321",
   "metadata": {},
   "outputs": [],
   "source": [
    "dataset_size = 113184   #113184"
   ]
  },
  {
   "cell_type": "code",
   "execution_count": 42,
   "id": "052da754",
   "metadata": {},
   "outputs": [],
   "source": [
    "test_dataset_size = 28297"
   ]
  },
  {
   "cell_type": "markdown",
   "id": "dcc42155",
   "metadata": {},
   "source": [
    "## 可视化"
   ]
  },
  {
   "cell_type": "code",
   "execution_count": null,
   "id": "8cb285fd",
   "metadata": {},
   "outputs": [],
   "source": [
    "for i in range(9):\n",
    "    _samples = np.hstack((np.array_split(test_set[i],8), 9) for _ in range(9)])"
   ]
  },
  {
   "cell_type": "code",
   "execution_count": null,
   "id": "7f038f21",
   "metadata": {},
   "outputs": [],
   "source": [
    "test_dataset = tf.data.Dataset.from_tensor_slices((test_samples_res, test_set_label_1_num))\n",
    "test_dataset"
   ]
  },
  {
   "cell_type": "code",
   "execution_count": null,
   "id": "4881b60b",
   "metadata": {},
   "outputs": [],
   "source": []
  },
  {
   "cell_type": "code",
   "execution_count": 228,
   "id": "1be4c577",
   "metadata": {},
   "outputs": [
    {
     "ename": "IndexError",
     "evalue": "list index out of range",
     "output_type": "error",
     "traceback": [
      "\u001b[0;31m---------------------------------------------------------------------------\u001b[0m",
      "\u001b[0;31mIndexError\u001b[0m                                Traceback (most recent call last)",
      "\u001b[0;32m<ipython-input-228-18f06fe10a0c>\u001b[0m in \u001b[0;36m<module>\u001b[0;34m\u001b[0m\n\u001b[1;32m      5\u001b[0m         \u001b[0mplt\u001b[0m\u001b[0;34m.\u001b[0m\u001b[0mimshow\u001b[0m\u001b[0;34m(\u001b[0m\u001b[0mX_batch\u001b[0m\u001b[0;34m[\u001b[0m\u001b[0mindex\u001b[0m\u001b[0;34m]\u001b[0m\u001b[0;34m)\u001b[0m\u001b[0;34m\u001b[0m\u001b[0;34m\u001b[0m\u001b[0m\n\u001b[1;32m      6\u001b[0m \u001b[0;34m\u001b[0m\u001b[0m\n\u001b[0;32m----> 7\u001b[0;31m         \u001b[0mplt\u001b[0m\u001b[0;34m.\u001b[0m\u001b[0mtitle\u001b[0m\u001b[0;34m(\u001b[0m\u001b[0;34m\"Class: {}\"\u001b[0m\u001b[0;34m.\u001b[0m\u001b[0mformat\u001b[0m\u001b[0;34m(\u001b[0m\u001b[0mlabel\u001b[0m\u001b[0;34m[\u001b[0m\u001b[0mindex\u001b[0m\u001b[0;34m]\u001b[0m\u001b[0;34m)\u001b[0m\u001b[0;34m)\u001b[0m\u001b[0;34m\u001b[0m\u001b[0;34m\u001b[0m\u001b[0m\n\u001b[0m\u001b[1;32m      8\u001b[0m         \u001b[0mplt\u001b[0m\u001b[0;34m.\u001b[0m\u001b[0maxis\u001b[0m\u001b[0;34m(\u001b[0m\u001b[0;34m\"on\"\u001b[0m\u001b[0;34m)\u001b[0m\u001b[0;34m\u001b[0m\u001b[0;34m\u001b[0m\u001b[0m\n\u001b[1;32m      9\u001b[0m \u001b[0;34m\u001b[0m\u001b[0m\n",
      "\u001b[0;31mIndexError\u001b[0m: list index out of range"
     ]
    },
    {
     "data": {
      "image/png": "[encoded data removed]",
      "text/plain": [
       "<Figure size 720x720 with 9 Axes>"
      ]
     },
     "metadata": {
      "needs_background": "light"
     },
     "output_type": "display_data"
    }
   ],
   "source": [
    "plt.figure(figsize=(10, 10))\n",
    "for X_batch, y_batch in dataset.take(1):\n",
    "    for index in range(9):\n",
    "        plt.subplot(3, 3, index + 1)\n",
    "        plt.imshow(X_batch[index])\n",
    "\n",
    "        plt.title(\"Class: {}\".format(label[index]))\n",
    "        plt.axis(\"on\")\n",
    "\n",
    "plt.show()"
   ]
  },
  {
   "cell_type": "code",
   "execution_count": null,
   "id": "21e87a52",
   "metadata": {},
   "outputs": [],
   "source": []
  },
  {
   "cell_type": "code",
   "execution_count": null,
   "id": "a89f1cc2",
   "metadata": {},
   "outputs": [],
   "source": []
  },
  {
   "cell_type": "code",
   "execution_count": null,
   "id": "3ab4afab",
   "metadata": {},
   "outputs": [],
   "source": []
  },
  {
   "cell_type": "code",
   "execution_count": null,
   "id": "a9bbd7e0",
   "metadata": {},
   "outputs": [],
   "source": []
  },
  {
   "cell_type": "code",
   "execution_count": null,
   "id": "cbf72814",
   "metadata": {},
   "outputs": [],
   "source": []
  },
  {
   "cell_type": "code",
   "execution_count": null,
   "id": "1452473c",
   "metadata": {},
   "outputs": [],
   "source": []
  },
  {
   "cell_type": "code",
   "execution_count": null,
   "id": "25231915",
   "metadata": {},
   "outputs": [],
   "source": []
  },
  {
   "cell_type": "code",
   "execution_count": null,
   "id": "fbfe514e",
   "metadata": {},
   "outputs": [],
   "source": []
  }
 ],
 "metadata": {
  "hide_input": false,
  "kernelspec": {
   "display_name": "Python 3",
   "language": "python",
   "name": "python3"
  },
  "language_info": {
   "codemirror_mode": {
    "name": "ipython",
    "version": 3
   },
   "file_extension": ".py",
   "mimetype": "text/x-python",
   "name": "python",
   "nbconvert_exporter": "python",
   "pygments_lexer": "ipython3",
   "version": "3.7.4"
  },
  "toc": {
   "base_numbering": 1,
   "nav_menu": {},
   "number_sections": true,
   "sideBar": true,
   "skip_h1_title": false,
   "title_cell": "目录",
   "title_sidebar": "目录",
   "toc_cell": false,
   "toc_position": {},
   "toc_section_display": true,
   "toc_window_display": false
  }
 },
 "nbformat": 4,
 "nbformat_minor": 5
}
